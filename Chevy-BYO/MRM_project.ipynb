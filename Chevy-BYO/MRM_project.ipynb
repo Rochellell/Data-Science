{
 "cells": [
  {
   "cell_type": "markdown",
   "id": "508374c9",
   "metadata": {},
   "source": [
    "<font size=\"6\"><strong><center>MRM Interview Challenge </center></strong></font> \n",
    "\n",
    "<br>\n",
    "\n",
    "<font size=\"4\"><strong><center> —— Chevy BYO tool </center></strong></font> "
   ]
  },
  {
   "cell_type": "markdown",
   "id": "5b035586",
   "metadata": {},
   "source": [
    "<center><span style=\"font-family: Arial;font-size:1.2em\">Rochelle Liu</center>\n",
    "<center><span style=\"font-family: Arial;font-size:1.2em\">2022-4-17</center>"
   ]
  },
  {
   "cell_type": "markdown",
   "id": "60d2f7e0",
   "metadata": {},
   "source": [
    "### 1. Frame the problem — EDA only\n",
    "\n",
    "- How can engagement with the BYO tool be measured, given the data available?\n",
    "- How did the BYO tool perform after the update, compared to before the update?\n",
    "- Are there any additional observations or inferences that are notable based on your analysis?"
   ]
  },
  {
   "cell_type": "code",
   "execution_count": 2,
   "id": "6219d220",
   "metadata": {},
   "outputs": [],
   "source": [
    "#import libaries\n",
    "import numpy as np\n",
    "import pandas as pd\n",
    "import seaborn as sns\n",
    "import matplotlib.pyplot as plt"
   ]
  },
  {
   "cell_type": "markdown",
   "id": "6f077cea",
   "metadata": {},
   "source": [
    "### 2. Get data\n",
    "This step will help the analyst to get the statstical info of the dataset, and move forward with some basics of it."
   ]
  },
  {
   "cell_type": "code",
   "execution_count": 3,
   "id": "d45dc71f",
   "metadata": {},
   "outputs": [],
   "source": [
    "#getting the data\n",
    "raw_data = pd.read_csv(\"Sample Case - Data.csv\")\n",
    "df = pd.DataFrame(raw_data) #shortened by using the variable name \"df\""
   ]
  },
  {
   "cell_type": "code",
   "execution_count": 20,
   "id": "832046f5",
   "metadata": {
    "scrolled": true
   },
   "outputs": [
    {
     "name": "stdout",
     "output_type": "stream",
     "text": [
      "<class 'pandas.core.frame.DataFrame'>\n",
      "RangeIndex: 730 entries, 0 to 729\n",
      "Data columns (total 3 columns):\n",
      " #   Column         Non-Null Count  Dtype  \n",
      "---  ------         --------------  -----  \n",
      " 0   Date           730 non-null    object \n",
      " 1   BYO Starts     728 non-null    float64\n",
      " 2   BYO Completes  729 non-null    float64\n",
      "dtypes: float64(2), object(1)\n",
      "memory usage: 17.2+ KB\n"
     ]
    }
   ],
   "source": [
    "df.info()"
   ]
  },
  {
   "cell_type": "markdown",
   "id": "fad44c77",
   "metadata": {},
   "source": [
    "*Note*: A few missing values are observed."
   ]
  },
  {
   "cell_type": "code",
   "execution_count": 21,
   "id": "1072ac6f",
   "metadata": {
    "scrolled": false
   },
   "outputs": [
    {
     "data": {
      "text/html": [
       "<div>\n",
       "<style scoped>\n",
       "    .dataframe tbody tr th:only-of-type {\n",
       "        vertical-align: middle;\n",
       "    }\n",
       "\n",
       "    .dataframe tbody tr th {\n",
       "        vertical-align: top;\n",
       "    }\n",
       "\n",
       "    .dataframe thead th {\n",
       "        text-align: right;\n",
       "    }\n",
       "</style>\n",
       "<table border=\"1\" class=\"dataframe\">\n",
       "  <thead>\n",
       "    <tr style=\"text-align: right;\">\n",
       "      <th></th>\n",
       "      <th>Date</th>\n",
       "      <th>BYO Starts</th>\n",
       "      <th>BYO Completes</th>\n",
       "    </tr>\n",
       "  </thead>\n",
       "  <tbody>\n",
       "    <tr>\n",
       "      <th>0</th>\n",
       "      <td>1/1/2016</td>\n",
       "      <td>64665.0</td>\n",
       "      <td>29057.0</td>\n",
       "    </tr>\n",
       "    <tr>\n",
       "      <th>1</th>\n",
       "      <td>1/2/2016</td>\n",
       "      <td>67037.0</td>\n",
       "      <td>29977.0</td>\n",
       "    </tr>\n",
       "    <tr>\n",
       "      <th>2</th>\n",
       "      <td>1/3/2016</td>\n",
       "      <td>70994.0</td>\n",
       "      <td>31850.0</td>\n",
       "    </tr>\n",
       "    <tr>\n",
       "      <th>3</th>\n",
       "      <td>1/4/2016</td>\n",
       "      <td>66300.0</td>\n",
       "      <td>29172.0</td>\n",
       "    </tr>\n",
       "    <tr>\n",
       "      <th>4</th>\n",
       "      <td>1/5/2016</td>\n",
       "      <td>65346.0</td>\n",
       "      <td>28936.0</td>\n",
       "    </tr>\n",
       "  </tbody>\n",
       "</table>\n",
       "</div>"
      ],
      "text/plain": [
       "       Date  BYO Starts  BYO Completes\n",
       "0  1/1/2016     64665.0        29057.0\n",
       "1  1/2/2016     67037.0        29977.0\n",
       "2  1/3/2016     70994.0        31850.0\n",
       "3  1/4/2016     66300.0        29172.0\n",
       "4  1/5/2016     65346.0        28936.0"
      ]
     },
     "execution_count": 21,
     "metadata": {},
     "output_type": "execute_result"
    }
   ],
   "source": [
    "df.head()"
   ]
  },
  {
   "cell_type": "markdown",
   "id": "743f02ed",
   "metadata": {},
   "source": [
    "Three columns are all numerical, including dates. We will handle dates in the next step."
   ]
  },
  {
   "cell_type": "code",
   "execution_count": 22,
   "id": "34af8ecc",
   "metadata": {
    "scrolled": true
   },
   "outputs": [
    {
     "data": {
      "text/html": [
       "<div>\n",
       "<style scoped>\n",
       "    .dataframe tbody tr th:only-of-type {\n",
       "        vertical-align: middle;\n",
       "    }\n",
       "\n",
       "    .dataframe tbody tr th {\n",
       "        vertical-align: top;\n",
       "    }\n",
       "\n",
       "    .dataframe thead th {\n",
       "        text-align: right;\n",
       "    }\n",
       "</style>\n",
       "<table border=\"1\" class=\"dataframe\">\n",
       "  <thead>\n",
       "    <tr style=\"text-align: right;\">\n",
       "      <th></th>\n",
       "      <th>BYO Starts</th>\n",
       "      <th>BYO Completes</th>\n",
       "    </tr>\n",
       "  </thead>\n",
       "  <tbody>\n",
       "    <tr>\n",
       "      <th>count</th>\n",
       "      <td>728.000000</td>\n",
       "      <td>729.000000</td>\n",
       "    </tr>\n",
       "    <tr>\n",
       "      <th>mean</th>\n",
       "      <td>72357.424451</td>\n",
       "      <td>32634.198903</td>\n",
       "    </tr>\n",
       "    <tr>\n",
       "      <th>std</th>\n",
       "      <td>6953.376995</td>\n",
       "      <td>4124.505785</td>\n",
       "    </tr>\n",
       "    <tr>\n",
       "      <th>min</th>\n",
       "      <td>54855.000000</td>\n",
       "      <td>21372.000000</td>\n",
       "    </tr>\n",
       "    <tr>\n",
       "      <th>25%</th>\n",
       "      <td>67385.500000</td>\n",
       "      <td>29466.000000</td>\n",
       "    </tr>\n",
       "    <tr>\n",
       "      <th>50%</th>\n",
       "      <td>71592.500000</td>\n",
       "      <td>32681.000000</td>\n",
       "    </tr>\n",
       "    <tr>\n",
       "      <th>75%</th>\n",
       "      <td>76397.500000</td>\n",
       "      <td>35574.000000</td>\n",
       "    </tr>\n",
       "    <tr>\n",
       "      <th>max</th>\n",
       "      <td>104383.000000</td>\n",
       "      <td>47677.000000</td>\n",
       "    </tr>\n",
       "  </tbody>\n",
       "</table>\n",
       "</div>"
      ],
      "text/plain": [
       "          BYO Starts  BYO Completes\n",
       "count     728.000000     729.000000\n",
       "mean    72357.424451   32634.198903\n",
       "std      6953.376995    4124.505785\n",
       "min     54855.000000   21372.000000\n",
       "25%     67385.500000   29466.000000\n",
       "50%     71592.500000   32681.000000\n",
       "75%     76397.500000   35574.000000\n",
       "max    104383.000000   47677.000000"
      ]
     },
     "execution_count": 22,
     "metadata": {},
     "output_type": "execute_result"
    }
   ],
   "source": [
    "df.describe()"
   ]
  },
  {
   "cell_type": "code",
   "execution_count": 55,
   "id": "9fb215ed",
   "metadata": {
    "scrolled": false
   },
   "outputs": [
    {
     "data": {
      "text/plain": [
       "Date             0\n",
       "BYO Starts       2\n",
       "BYO Completes    1\n",
       "dtype: int64"
      ]
     },
     "execution_count": 55,
     "metadata": {},
     "output_type": "execute_result"
    }
   ],
   "source": [
    "df.isnull().sum()"
   ]
  },
  {
   "cell_type": "code",
   "execution_count": 56,
   "id": "95b66481",
   "metadata": {
    "scrolled": true
   },
   "outputs": [],
   "source": [
    "#drop all the rows with missing values\n",
    "df.dropna(inplace=True)"
   ]
  },
  {
   "cell_type": "code",
   "execution_count": 57,
   "id": "0df07696",
   "metadata": {
    "scrolled": false
   },
   "outputs": [
    {
     "name": "stdout",
     "output_type": "stream",
     "text": [
      "<class 'pandas.core.frame.DataFrame'>\n",
      "Int64Index: 728 entries, 0 to 729\n",
      "Data columns (total 3 columns):\n",
      " #   Column         Non-Null Count  Dtype  \n",
      "---  ------         --------------  -----  \n",
      " 0   Date           728 non-null    object \n",
      " 1   BYO Starts     728 non-null    float64\n",
      " 2   BYO Completes  728 non-null    float64\n",
      "dtypes: float64(2), object(1)\n",
      "memory usage: 22.8+ KB\n"
     ]
    }
   ],
   "source": [
    "df.info()"
   ]
  },
  {
   "cell_type": "markdown",
   "id": "d6f8cdd6",
   "metadata": {},
   "source": [
    "<b>To clean the data :</b> All the missing values are removed, since the missing value is less than 1% of the overall dataset. "
   ]
  },
  {
   "cell_type": "markdown",
   "id": "45f3e4bc",
   "metadata": {},
   "source": [
    "### 3. Explore and visualize"
   ]
  },
  {
   "cell_type": "code",
   "execution_count": 5,
   "id": "6d4ea126",
   "metadata": {},
   "outputs": [],
   "source": [
    "#using \"Mar 1st\" for \"Early Spring\" and set the time as index\n",
    "df['Date'] = pd.to_datetime(df['Date'])\n",
    "df = df.set_index(df['Date'])\n",
    "df = df.sort_index()"
   ]
  },
  {
   "cell_type": "code",
   "execution_count": 6,
   "id": "53480711",
   "metadata": {
    "scrolled": true
   },
   "outputs": [
    {
     "name": "stdout",
     "output_type": "stream",
     "text": [
      "(425, 3)\n",
      "(305, 3)\n"
     ]
    }
   ],
   "source": [
    "#split data by date\n",
    "before_update = df[:'2017-02-28']\n",
    "after_update = df['2017-03-01':]\n",
    "print(before_update.shape)\n",
    "print(after_update.shape)"
   ]
  },
  {
   "cell_type": "code",
   "execution_count": 7,
   "id": "14408080",
   "metadata": {
    "scrolled": false
   },
   "outputs": [
    {
     "data": {
      "text/plain": [
       "Date             2017-02-28 00:00:00\n",
       "BYO Starts                   80184.0\n",
       "BYO Completes                34942.0\n",
       "Name: 2017-02-28 00:00:00, dtype: object"
      ]
     },
     "execution_count": 7,
     "metadata": {},
     "output_type": "execute_result"
    }
   ],
   "source": [
    "#confirmed the right data with dates\n",
    "before_update.iloc[-1]"
   ]
  },
  {
   "cell_type": "code",
   "execution_count": 8,
   "id": "aa113d76",
   "metadata": {
    "scrolled": true
   },
   "outputs": [
    {
     "data": {
      "text/plain": [
       "<matplotlib.collections.LineCollection at 0x7fc568d5d100>"
      ]
     },
     "execution_count": 8,
     "metadata": {},
     "output_type": "execute_result"
    },
    {
     "data": {
      "image/png": "[encoded data removed]",
      "text/plain": [
       "<Figure size 432x288 with 1 Axes>"
      ]
     },
     "metadata": {},
     "output_type": "display_data"
    }
   ],
   "source": [
    "#using seaborn to plot\n",
    "SC = df[['Date','BYO Starts','BYO Completes']]\n",
    "sns.set_theme()\n",
    "sns.lineplot(data=SC).vlines(['2017-03-01'],0,110000, linestyles='dashed', colors='red')"
   ]
  },
  {
   "cell_type": "markdown",
   "id": "fea4c55c",
   "metadata": {},
   "source": [
    "- *Note*: The number of BYO starts started to decrease in the <b>early spring </b> of 2017."
   ]
  },
  {
   "cell_type": "code",
   "execution_count": 9,
   "id": "31013f97",
   "metadata": {
    "scrolled": false
   },
   "outputs": [
    {
     "data": {
      "text/plain": [
       "<matplotlib.collections.LineCollection at 0x7fc548729fa0>"
      ]
     },
     "execution_count": 9,
     "metadata": {},
     "output_type": "execute_result"
    },
    {
     "data": {
      "image/png": "[encoded data removed]",
      "text/plain": [
       "<Figure size 432x288 with 1 Axes>"
      ]
     },
     "metadata": {},
     "output_type": "display_data"
    }
   ],
   "source": [
    "#plot the starts/completes ratio\n",
    "df[\"ratio\"]= df[\"BYO Completes\"]/df[\"BYO Starts\"]\n",
    "sns.lineplot(data=df['ratio']).vlines(['2017-03-01'],0.2,0.7, linestyles='dashed', colors='red')"
   ]
  },
  {
   "cell_type": "markdown",
   "id": "c998c1a2",
   "metadata": {},
   "source": [
    "*Note*: There is a decrease around the end of March on the starts/completes ratio. From the data is Mar 28, 2017.\n",
    "The red line is drawn to help narrowing down the exact date."
   ]
  },
  {
   "cell_type": "code",
   "execution_count": 52,
   "id": "0d540bf5",
   "metadata": {
    "scrolled": false
   },
   "outputs": [
    {
     "data": {
      "text/plain": [
       "<matplotlib.collections.LineCollection at 0x7fd698a62370>"
      ]
     },
     "execution_count": 52,
     "metadata": {},
     "output_type": "execute_result"
    },
    {
     "data": {
      "image/png": "[encoded data removed]",
      "text/plain": [
       "<Figure size 432x288 with 1 Axes>"
      ]
     },
     "metadata": {},
     "output_type": "display_data"
    }
   ],
   "source": [
    "#continuous graph - focus on spring 2017 (Mar 1st to June 1st)\n",
    "spring = df['2017-03-01':'2017-06-01']\n",
    "sns.lineplot(data=spring['ratio']).vlines(['2017-04-01'],0.2,0.7, linestyles='dashed', colors='red')"
   ]
  },
  {
   "cell_type": "markdown",
   "id": "4057a2fc",
   "metadata": {},
   "source": [
    "*Note*: There is a noticeable increase of the ratio around the red line. The BYO tool update made a difference."
   ]
  },
  {
   "cell_type": "markdown",
   "id": "8baaa79a",
   "metadata": {},
   "source": [
    "### Steps and Conclusions:\n",
    "\n",
    "- To analyze the data, first, I collected the basic information of the dataset by checking the basic stats number, data type and missing value. And got the idea of BYO tool by obeserving the data in graph.\n",
    "\n",
    "- Second, I cleaned the data and splited the dataset into two based on the assumption of the \"early spring\" date. Did futher analysis according to the graphs.\n",
    "\n",
    "- BYO update: An average ratio jumped from around 0.45 to 0.49-0.5, which is roughly around <b>8.8%-11.1%</b>. There was a slight derease in numbers when the BYO tool updated, which was around <b>Mar 1st, 2017</b>. However, there was almost no change on the BYO completes numbers, this affects the overall start/complete ratio to be higher as we obeserved around <b>April 1st, 2017</b>. The BYO tool update did make a difference in terms of increasing the ratio of starts/completes. But the overall completes number did not raise significantly, futher analysis will be needed to add more information to the conclusion."
   ]
  }
 ],
 "metadata": {
  "kernelspec": {
   "display_name": "Python 3 (ipykernel)",
   "language": "python",
   "name": "python3"
  },
  "language_info": {
   "codemirror_mode": {
    "name": "ipython",
    "version": 3
   },
   "file_extension": ".py",
   "mimetype": "text/x-python",
   "name": "python",
   "nbconvert_exporter": "python",
   "pygments_lexer": "ipython3",
   "version": "3.9.7"
  },
  "varInspector": {
   "cols": {
    "lenName": 16,
    "lenType": 16,
    "lenVar": 40
   },
   "kernels_config": {
    "python": {
     "delete_cmd_postfix": "",
     "delete_cmd_prefix": "del ",
     "library": "var_list.py",
     "varRefreshCmd": "print(var_dic_list())"
    },
    "r": {
     "delete_cmd_postfix": ") ",
     "delete_cmd_prefix": "rm(",
     "library": "var_list.r",
     "varRefreshCmd": "cat(var_dic_list()) "
    }
   },
   "types_to_exclude": [
    "module",
    "function",
    "builtin_function_or_method",
    "instance",
    "_Feature"
   ],
   "window_display": false
  }
 },
 "nbformat": 4,
 "nbformat_minor": 5
}
