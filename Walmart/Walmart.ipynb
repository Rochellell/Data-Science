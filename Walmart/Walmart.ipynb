{
 "cells": [
  {
   "cell_type": "markdown",
   "id": "b6136c57",
   "metadata": {},
   "source": [
    "<img src=\"Walmart-Logo.png\" width=\"50%\" height=\"50%\">\n",
    "\n",
    "# Retail Analysis with Walmart Data\n",
    "\n",
    "* * *\n",
    "*One of the leading retail stores in the US, Walmart, would like to predict the sales and demand accurately. There are certain events and holidays which impact sales on each day. There are sales data available for 45 stores of Walmart. The business is facing a challenge due to unforeseen demands and runs out of stock some times, due to the inappropriate machine learning algorithm. An ideal ML algorithm will predict demand accurately and ingest factors like economic conditions including CPI, Unemployment Index, etc.*\n",
    "\n",
    "*Walmart runs several promotional markdown events throughout the year. These markdowns precede prominent holidays, the four largest of all, which are the Super Bowl, Labour Day, Thanksgiving, and Christmas. The weeks including these holidays are weighted five times higher in the evaluation than non-holiday weeks. Part of the challenge presented by this competition is modeling the effects of markdowns on these holiday weeks in the absence of complete/ideal historical data. Historical sales data for 45 Walmart stores located in different regions are available.*\n",
    "\n",
    "* * *"
   ]
  },
  {
   "cell_type": "markdown",
   "id": "32c7cc20",
   "metadata": {},
   "source": [
    "## Basic Statistics tasks\n",
    "\n",
    "- Which store has maximum sales\n",
    "\n",
    "- Which store has maximum standard deviation i.e., the sales vary a lot. Also, find out the coefficient of mean to standard deviation\n",
    "\n",
    "- Which store/s has good quarterly growth rate in Q3’2012\n",
    "\n",
    "- Some holidays have a negative impact on sales. Find out holidays which have higher sales than the mean sales in non-holiday season for all stores together\n",
    "\n",
    "- Provide a monthly and semester view of sales in units and give insights\n"
   ]
  },
  {
   "cell_type": "code",
   "execution_count": 58,
   "id": "f766c42c",
   "metadata": {},
   "outputs": [],
   "source": [
    "import numpy as np\n",
    "import pandas as pd\n",
    "import matplotlib.pyplot as plt\n",
    "import seaborn as sns\n",
    "from datetime import date"
   ]
  },
  {
   "cell_type": "code",
   "execution_count": 59,
   "id": "e86c6673",
   "metadata": {},
   "outputs": [],
   "source": [
    "raw_data = pd.read_csv('Walmart_Store_sales.csv')"
   ]
  },
  {
   "cell_type": "code",
   "execution_count": 60,
   "id": "4ef67e02",
   "metadata": {
    "scrolled": false
   },
   "outputs": [
    {
     "name": "stdout",
     "output_type": "stream",
     "text": [
      "<class 'pandas.core.frame.DataFrame'>\n",
      "RangeIndex: 6435 entries, 0 to 6434\n",
      "Data columns (total 8 columns):\n",
      " #   Column        Non-Null Count  Dtype  \n",
      "---  ------        --------------  -----  \n",
      " 0   Store         6435 non-null   int64  \n",
      " 1   Date          6435 non-null   object \n",
      " 2   Weekly_Sales  6435 non-null   float64\n",
      " 3   Holiday_Flag  6435 non-null   int64  \n",
      " 4   Temperature   6435 non-null   float64\n",
      " 5   Fuel_Price    6435 non-null   float64\n",
      " 6   CPI           6435 non-null   float64\n",
      " 7   Unemployment  6435 non-null   float64\n",
      "dtypes: float64(5), int64(2), object(1)\n",
      "memory usage: 402.3+ KB\n"
     ]
    }
   ],
   "source": [
    "df_data = pd.DataFrame(raw_data)\n",
    "df_data.info()"
   ]
  },
  {
   "cell_type": "markdown",
   "id": "05e08dbb",
   "metadata": {},
   "source": [
    "## 1. Finding the Max-weekly-sales store\n",
    "\n"
   ]
  },
  {
   "cell_type": "code",
   "execution_count": 61,
   "id": "1b097846",
   "metadata": {
    "scrolled": true
   },
   "outputs": [
    {
     "name": "stdout",
     "output_type": "stream",
     "text": [
      "Max sales store‘s index: 1905\n"
     ]
    }
   ],
   "source": [
    "store_sales = df_data[[\"Store\",\"Weekly_Sales\"]]\n",
    "\n",
    "sales_column = store_sales[\"Weekly_Sales\"]\n",
    "max_sales = sales_column.max()\n",
    "index_of_max = sales_column.idxmax()\n",
    "print(\"Max sales store‘s index: \"+ str(index_of_max))"
   ]
  },
  {
   "cell_type": "code",
   "execution_count": 62,
   "id": "98c491e2",
   "metadata": {},
   "outputs": [
    {
     "name": "stdout",
     "output_type": "stream",
     "text": [
      "Store #14 had the maximum weekly sales of: $3818686.45\n"
     ]
    }
   ],
   "source": [
    "#Max-weekly-sales with store number\n",
    "store_sales.iloc[1905]\n",
    "print(\"Store #\" + str(store_max_sales) + \" had the maximum weekly sales of: $\" + str(max_sales))"
   ]
  },
  {
   "cell_type": "markdown",
   "id": "71faf348",
   "metadata": {},
   "source": [
    "## 2. Finding the maximum standard deviation store"
   ]
  },
  {
   "cell_type": "code",
   "execution_count": 63,
   "id": "c8ae6b84",
   "metadata": {
    "scrolled": false
   },
   "outputs": [
    {
     "data": {
      "text/plain": [
       "count    6.435000e+03\n",
       "mean     1.046965e+06\n",
       "std      5.643666e+05\n",
       "min      2.099862e+05\n",
       "25%      5.533501e+05\n",
       "50%      9.607460e+05\n",
       "75%      1.420159e+06\n",
       "max      3.818686e+06\n",
       "Name: Weekly_Sales, dtype: float64"
      ]
     },
     "execution_count": 63,
     "metadata": {},
     "output_type": "execute_result"
    }
   ],
   "source": [
    "df_data[\"Weekly_Sales\"].describe()"
   ]
  },
  {
   "cell_type": "markdown",
   "id": "cc077341",
   "metadata": {},
   "source": [
    "**1). STD and max STD**"
   ]
  },
  {
   "cell_type": "code",
   "execution_count": 64,
   "id": "994ff926",
   "metadata": {
    "scrolled": true
   },
   "outputs": [
    {
     "name": "stdout",
     "output_type": "stream",
     "text": [
      "\n",
      "Store: #14 has the maximum STD: 317569.95\n"
     ]
    }
   ],
   "source": [
    "group_store = [column for _, column in store_sales.groupby('Store')]\n",
    "std_list = []\n",
    "mean_list = []\n",
    "\n",
    "#loop weekly sales with index\n",
    "for i in range(45):\n",
    "    g = pd.DataFrame(group_store[i])\n",
    "    std = g[\"Weekly_Sales\"].std()\n",
    "    std_list.append(std)\n",
    "    mean = g['Weekly_Sales'].mean()\n",
    "    mean_list.append(mean)\n",
    "\n",
    "no_of_store = std_list.index(max(std_list)) + 1\n",
    "print(\"\\nStore: #\"+ str(no_of_store) + \" has the maximum STD: {std:.2f}\".format(std=max(std_list)))"
   ]
  },
  {
   "cell_type": "markdown",
   "id": "b99daf96",
   "metadata": {},
   "source": [
    "**2). Coefficient of Mean to STD**"
   ]
  },
  {
   "cell_type": "code",
   "execution_count": 65,
   "id": "ad535310",
   "metadata": {},
   "outputs": [
    {
     "name": "stdout",
     "output_type": "stream",
     "text": [
      "CoV is : 15.07\n"
     ]
    }
   ],
   "source": [
    "cov = max(std_list)/max(mean_list) * 100\n",
    "print(\"CoV is : {cv:.2f}\".format(cv=cov))"
   ]
  },
  {
   "cell_type": "markdown",
   "id": "be5e908b",
   "metadata": {},
   "source": [
    "## 3. Quarterly growth rate in Q3’2012"
   ]
  },
  {
   "cell_type": "code",
   "execution_count": 66,
   "id": "46c3431f",
   "metadata": {},
   "outputs": [
    {
     "data": {
      "text/html": [
       "<div>\n",
       "<style scoped>\n",
       "    .dataframe tbody tr th:only-of-type {\n",
       "        vertical-align: middle;\n",
       "    }\n",
       "\n",
       "    .dataframe tbody tr th {\n",
       "        vertical-align: top;\n",
       "    }\n",
       "\n",
       "    .dataframe thead th {\n",
       "        text-align: right;\n",
       "    }\n",
       "</style>\n",
       "<table border=\"1\" class=\"dataframe\">\n",
       "  <thead>\n",
       "    <tr style=\"text-align: right;\">\n",
       "      <th></th>\n",
       "      <th>Store</th>\n",
       "      <th>Date</th>\n",
       "      <th>Weekly_Sales</th>\n",
       "      <th>Holiday_Flag</th>\n",
       "      <th>Temperature</th>\n",
       "      <th>Fuel_Price</th>\n",
       "      <th>CPI</th>\n",
       "      <th>Unemployment</th>\n",
       "    </tr>\n",
       "  </thead>\n",
       "  <tbody>\n",
       "    <tr>\n",
       "      <th>0</th>\n",
       "      <td>1</td>\n",
       "      <td>05-02-2010</td>\n",
       "      <td>1643690.90</td>\n",
       "      <td>0</td>\n",
       "      <td>42.31</td>\n",
       "      <td>2.572</td>\n",
       "      <td>211.096358</td>\n",
       "      <td>8.106</td>\n",
       "    </tr>\n",
       "    <tr>\n",
       "      <th>1</th>\n",
       "      <td>1</td>\n",
       "      <td>12-02-2010</td>\n",
       "      <td>1641957.44</td>\n",
       "      <td>1</td>\n",
       "      <td>38.51</td>\n",
       "      <td>2.548</td>\n",
       "      <td>211.242170</td>\n",
       "      <td>8.106</td>\n",
       "    </tr>\n",
       "    <tr>\n",
       "      <th>2</th>\n",
       "      <td>1</td>\n",
       "      <td>19-02-2010</td>\n",
       "      <td>1611968.17</td>\n",
       "      <td>0</td>\n",
       "      <td>39.93</td>\n",
       "      <td>2.514</td>\n",
       "      <td>211.289143</td>\n",
       "      <td>8.106</td>\n",
       "    </tr>\n",
       "    <tr>\n",
       "      <th>3</th>\n",
       "      <td>1</td>\n",
       "      <td>26-02-2010</td>\n",
       "      <td>1409727.59</td>\n",
       "      <td>0</td>\n",
       "      <td>46.63</td>\n",
       "      <td>2.561</td>\n",
       "      <td>211.319643</td>\n",
       "      <td>8.106</td>\n",
       "    </tr>\n",
       "    <tr>\n",
       "      <th>4</th>\n",
       "      <td>1</td>\n",
       "      <td>05-03-2010</td>\n",
       "      <td>1554806.68</td>\n",
       "      <td>0</td>\n",
       "      <td>46.50</td>\n",
       "      <td>2.625</td>\n",
       "      <td>211.350143</td>\n",
       "      <td>8.106</td>\n",
       "    </tr>\n",
       "    <tr>\n",
       "      <th>...</th>\n",
       "      <td>...</td>\n",
       "      <td>...</td>\n",
       "      <td>...</td>\n",
       "      <td>...</td>\n",
       "      <td>...</td>\n",
       "      <td>...</td>\n",
       "      <td>...</td>\n",
       "      <td>...</td>\n",
       "    </tr>\n",
       "    <tr>\n",
       "      <th>6430</th>\n",
       "      <td>45</td>\n",
       "      <td>28-09-2012</td>\n",
       "      <td>713173.95</td>\n",
       "      <td>0</td>\n",
       "      <td>64.88</td>\n",
       "      <td>3.997</td>\n",
       "      <td>192.013558</td>\n",
       "      <td>8.684</td>\n",
       "    </tr>\n",
       "    <tr>\n",
       "      <th>6431</th>\n",
       "      <td>45</td>\n",
       "      <td>05-10-2012</td>\n",
       "      <td>733455.07</td>\n",
       "      <td>0</td>\n",
       "      <td>64.89</td>\n",
       "      <td>3.985</td>\n",
       "      <td>192.170412</td>\n",
       "      <td>8.667</td>\n",
       "    </tr>\n",
       "    <tr>\n",
       "      <th>6432</th>\n",
       "      <td>45</td>\n",
       "      <td>12-10-2012</td>\n",
       "      <td>734464.36</td>\n",
       "      <td>0</td>\n",
       "      <td>54.47</td>\n",
       "      <td>4.000</td>\n",
       "      <td>192.327265</td>\n",
       "      <td>8.667</td>\n",
       "    </tr>\n",
       "    <tr>\n",
       "      <th>6433</th>\n",
       "      <td>45</td>\n",
       "      <td>19-10-2012</td>\n",
       "      <td>718125.53</td>\n",
       "      <td>0</td>\n",
       "      <td>56.47</td>\n",
       "      <td>3.969</td>\n",
       "      <td>192.330854</td>\n",
       "      <td>8.667</td>\n",
       "    </tr>\n",
       "    <tr>\n",
       "      <th>6434</th>\n",
       "      <td>45</td>\n",
       "      <td>26-10-2012</td>\n",
       "      <td>760281.43</td>\n",
       "      <td>0</td>\n",
       "      <td>58.85</td>\n",
       "      <td>3.882</td>\n",
       "      <td>192.308899</td>\n",
       "      <td>8.667</td>\n",
       "    </tr>\n",
       "  </tbody>\n",
       "</table>\n",
       "<p>6435 rows × 8 columns</p>\n",
       "</div>"
      ],
      "text/plain": [
       "      Store        Date  Weekly_Sales  Holiday_Flag  Temperature  Fuel_Price  \\\n",
       "0         1  05-02-2010    1643690.90             0        42.31       2.572   \n",
       "1         1  12-02-2010    1641957.44             1        38.51       2.548   \n",
       "2         1  19-02-2010    1611968.17             0        39.93       2.514   \n",
       "3         1  26-02-2010    1409727.59             0        46.63       2.561   \n",
       "4         1  05-03-2010    1554806.68             0        46.50       2.625   \n",
       "...     ...         ...           ...           ...          ...         ...   \n",
       "6430     45  28-09-2012     713173.95             0        64.88       3.997   \n",
       "6431     45  05-10-2012     733455.07             0        64.89       3.985   \n",
       "6432     45  12-10-2012     734464.36             0        54.47       4.000   \n",
       "6433     45  19-10-2012     718125.53             0        56.47       3.969   \n",
       "6434     45  26-10-2012     760281.43             0        58.85       3.882   \n",
       "\n",
       "             CPI  Unemployment  \n",
       "0     211.096358         8.106  \n",
       "1     211.242170         8.106  \n",
       "2     211.289143         8.106  \n",
       "3     211.319643         8.106  \n",
       "4     211.350143         8.106  \n",
       "...          ...           ...  \n",
       "6430  192.013558         8.684  \n",
       "6431  192.170412         8.667  \n",
       "6432  192.327265         8.667  \n",
       "6433  192.330854         8.667  \n",
       "6434  192.308899         8.667  \n",
       "\n",
       "[6435 rows x 8 columns]"
      ]
     },
     "execution_count": 66,
     "metadata": {},
     "output_type": "execute_result"
    }
   ],
   "source": [
    "df_data"
   ]
  },
  {
   "cell_type": "code",
   "execution_count": 67,
   "id": "5147e82a",
   "metadata": {},
   "outputs": [],
   "source": [
    "raw_data['Date'] = pd.to_datetime(raw_data['Date'])\n",
    "\n",
    "Q3_date_from = pd.Timestamp(date(2012,7,1))\n",
    "Q3_date_to = pd.Timestamp(date(2012,9,30))\n",
    "Q2_date_from = pd.Timestamp(date(2012,4,1))\n",
    "Q2_date_to = pd.Timestamp(date(2012,6,30))\n"
   ]
  },
  {
   "cell_type": "code",
   "execution_count": 68,
   "id": "8b427ff3",
   "metadata": {},
   "outputs": [],
   "source": [
    "Q2_data = raw_data[(raw_data[\"Date\"]> Q2_date_from) & (raw_data[\"Date\"]< Q2_date_to)]\n",
    "Q3_data = raw_data[(raw_data[\"Date\"]> Q3_date_from) & (raw_data[\"Date\"]< Q3_date_to)]"
   ]
  },
  {
   "cell_type": "code",
   "execution_count": 91,
   "id": "c7aef90e",
   "metadata": {},
   "outputs": [],
   "source": [
    "#Sum of Q2 weekly sales\n",
    "Q2 = pd.DataFrame(Q2_data.groupby('Store')['Weekly_Sales'].sum())\n",
    "Q2.reset_index(inplace=True)\n",
    "Q2.rename(columns={'Weekly_Sales': 'Q2_Weekly_Sales'},inplace=True)\n",
    "\n",
    "#Sum of Q3 weekly sales\n",
    "Q3 = pd.DataFrame(Q3_data.groupby('Store')['Weekly_Sales'].sum())\n",
    "Q3.reset_index(inplace=True)\n",
    "Q3.rename(columns={'Weekly_Sales': 'Q3_Weekly_Sales'},inplace=True)\n",
    "\n",
    "#Q2 & Q3 combined\n",
    "Growth = Q2.merge(Q3, how='inner')"
   ]
  },
  {
   "cell_type": "markdown",
   "id": "e49fa20c",
   "metadata": {},
   "source": [
    "*Formula: Growth rate = ((Present value — Past value )/Past value )*100*"
   ]
  },
  {
   "cell_type": "code",
   "execution_count": 131,
   "id": "0a33c592",
   "metadata": {},
   "outputs": [],
   "source": [
    "#Calculate growth rate\n",
    "Growth['Growth_Rate'] = (Growth['Q3_Weekly_Sales']-Growth['Q2_Weekly_Sales'])/Growth['Q3_Weekly_Sales']\n",
    "Growth['Growth_Rate'] = round(Growth['Growth_Rate'],2)"
   ]
  },
  {
   "cell_type": "code",
   "execution_count": 99,
   "id": "577f2798",
   "metadata": {
    "scrolled": true
   },
   "outputs": [
    {
     "data": {
      "text/html": [
       "<div>\n",
       "<style scoped>\n",
       "    .dataframe tbody tr th:only-of-type {\n",
       "        vertical-align: middle;\n",
       "    }\n",
       "\n",
       "    .dataframe tbody tr th {\n",
       "        vertical-align: top;\n",
       "    }\n",
       "\n",
       "    .dataframe thead th {\n",
       "        text-align: right;\n",
       "    }\n",
       "</style>\n",
       "<table border=\"1\" class=\"dataframe\">\n",
       "  <thead>\n",
       "    <tr style=\"text-align: right;\">\n",
       "      <th></th>\n",
       "      <th>Store</th>\n",
       "      <th>Q2_Weekly_Sales</th>\n",
       "      <th>Q3_Weekly_Sales</th>\n",
       "      <th>Growth_Rate</th>\n",
       "    </tr>\n",
       "  </thead>\n",
       "  <tbody>\n",
       "    <tr>\n",
       "      <th>15</th>\n",
       "      <td>16</td>\n",
       "      <td>6626133.44</td>\n",
       "      <td>6441311.11</td>\n",
       "      <td>-0.03</td>\n",
       "    </tr>\n",
       "  </tbody>\n",
       "</table>\n",
       "</div>"
      ],
      "text/plain": [
       "    Store  Q2_Weekly_Sales  Q3_Weekly_Sales  Growth_Rate\n",
       "15     16       6626133.44       6441311.11        -0.03"
      ]
     },
     "execution_count": 99,
     "metadata": {},
     "output_type": "execute_result"
    }
   ],
   "source": [
    "#Min Loss\n",
    "Growth.sort_values('Growth_Rate',ascending=False).head(1)"
   ]
  },
  {
   "cell_type": "code",
   "execution_count": 132,
   "id": "b4b0726f",
   "metadata": {},
   "outputs": [
    {
     "data": {
      "text/html": [
       "<div>\n",
       "<style scoped>\n",
       "    .dataframe tbody tr th:only-of-type {\n",
       "        vertical-align: middle;\n",
       "    }\n",
       "\n",
       "    .dataframe tbody tr th {\n",
       "        vertical-align: top;\n",
       "    }\n",
       "\n",
       "    .dataframe thead th {\n",
       "        text-align: right;\n",
       "    }\n",
       "</style>\n",
       "<table border=\"1\" class=\"dataframe\">\n",
       "  <thead>\n",
       "    <tr style=\"text-align: right;\">\n",
       "      <th></th>\n",
       "      <th>Store</th>\n",
       "      <th>Q2_Weekly_Sales</th>\n",
       "      <th>Q3_Weekly_Sales</th>\n",
       "      <th>Growth_Rate</th>\n",
       "    </tr>\n",
       "  </thead>\n",
       "  <tbody>\n",
       "    <tr>\n",
       "      <th>13</th>\n",
       "      <td>14</td>\n",
       "      <td>24427769.06</td>\n",
       "      <td>20140430.4</td>\n",
       "      <td>-0.21</td>\n",
       "    </tr>\n",
       "  </tbody>\n",
       "</table>\n",
       "</div>"
      ],
      "text/plain": [
       "    Store  Q2_Weekly_Sales  Q3_Weekly_Sales  Growth_Rate\n",
       "13     14      24427769.06       20140430.4        -0.21"
      ]
     },
     "execution_count": 132,
     "metadata": {},
     "output_type": "execute_result"
    }
   ],
   "source": [
    "#Max Loss\n",
    "Growth.sort_values('Growth_Rate').head(1)"
   ]
  },
  {
   "cell_type": "markdown",
   "id": "ff47c61a",
   "metadata": {},
   "source": [
    "### Holiday Events\n",
    "\n",
    "- Super Bowl: 12-Feb-10, 11-Feb-11, 10-Feb-12, 8-Feb-13\n",
    "- Labour Day: 10-Sep-10, 9-Sep-11, 7-Sep-12, 6-Sep-13\n",
    "- Thanksgiving: 26-Nov-10, 25-Nov-11, 23-Nov-12, 29-Nov-13\n",
    "- Christmas: 31-Dec-10, 30-Dec-11, 28-Dec-12, 27-Dec-13"
   ]
  },
  {
   "cell_type": "code",
   "execution_count": 104,
   "id": "fc58213d",
   "metadata": {
    "scrolled": true
   },
   "outputs": [
    {
     "data": {
      "text/plain": [
       "Holiday_Flag\n",
       "0    1.041256e+06\n",
       "1    1.122888e+06\n",
       "Name: Weekly_Sales, dtype: float64"
      ]
     },
     "execution_count": 104,
     "metadata": {},
     "output_type": "execute_result"
    }
   ],
   "source": [
    "#holiday vs. nonholiday mean\n",
    "df_data.groupby('Holiday_Flag')['Weekly_Sales'].mean()"
   ]
  },
  {
   "cell_type": "code",
   "execution_count": 111,
   "id": "c3282828",
   "metadata": {},
   "outputs": [],
   "source": [
    "SuperBowl1 = pd.Timestamp(date(2010,2,12))\n",
    "SuperBowl2 = pd.Timestamp(date(2011,2,11))\n",
    "SuperBowl3 = pd.Timestamp(date(2012,2,10))\n",
    "SuperBowl4 = pd.Timestamp(date(2013,2,8))\n",
    "\n",
    "LabourDay1 = pd.Timestamp(date(2010,9,10))\n",
    "LabourDay2 = pd.Timestamp(date(2011,9,9))\n",
    "LabourDay3 = pd.Timestamp(date(2012,9,7))\n",
    "LabourDay4 = pd.Timestamp(date(2013,9,6))\n",
    "\n",
    "Thanksgiving1 = pd.Timestamp(date(2010,11,26))\n",
    "Thanksgiving2 = pd.Timestamp(date(2011,11,25))\n",
    "Thanksgiving3 = pd.Timestamp(date(2012,11,23))\n",
    "Thanksgiving4 = pd.Timestamp(date(2013,11,29))\n",
    "\n",
    "Christmas1 = pd.Timestamp(date(2010,12,31))\n",
    "Christmas2 = pd.Timestamp(date(2011,12,30))\n",
    "Christmas3 = pd.Timestamp(date(2012,12,28))\n",
    "Christmas4 = pd.Timestamp(date(2013,12,27))"
   ]
  },
  {
   "cell_type": "code",
   "execution_count": 159,
   "id": "463d9d8c",
   "metadata": {},
   "outputs": [
    {
     "data": {
      "text/html": [
       "<div>\n",
       "<style scoped>\n",
       "    .dataframe tbody tr th:only-of-type {\n",
       "        vertical-align: middle;\n",
       "    }\n",
       "\n",
       "    .dataframe tbody tr th {\n",
       "        vertical-align: top;\n",
       "    }\n",
       "\n",
       "    .dataframe thead th {\n",
       "        text-align: right;\n",
       "    }\n",
       "</style>\n",
       "<table border=\"1\" class=\"dataframe\">\n",
       "  <thead>\n",
       "    <tr style=\"text-align: right;\">\n",
       "      <th></th>\n",
       "      <th>Store</th>\n",
       "      <th>Date</th>\n",
       "      <th>Weekly_Sales</th>\n",
       "      <th>Holiday_Flag</th>\n",
       "      <th>Temperature</th>\n",
       "      <th>Fuel_Price</th>\n",
       "      <th>CPI</th>\n",
       "      <th>Unemployment</th>\n",
       "    </tr>\n",
       "  </thead>\n",
       "  <tbody>\n",
       "  </tbody>\n",
       "</table>\n",
       "</div>"
      ],
      "text/plain": [
       "Empty DataFrame\n",
       "Columns: [Store, Date, Weekly_Sales, Holiday_Flag, Temperature, Fuel_Price, CPI, Unemployment]\n",
       "Index: []"
      ]
     },
     "execution_count": 159,
     "metadata": {},
     "output_type": "execute_result"
    }
   ],
   "source": [
    "SuperBowl_sales=raw_data[(raw_data['Date'] == SuperBowl1)|(raw_data['Date'] == SuperBowl2)|(raw_data['Date'] == SuperBowl3)|(raw_data['Date'] == SuperBowl4)] \n",
    "SuperBowl_mean_sales = SuperBowl_sales['Weekly_Sales'].mean()\n",
    "SuperBowl_sales"
   ]
  },
  {
   "cell_type": "code",
   "execution_count": 152,
   "id": "6e344613",
   "metadata": {},
   "outputs": [
    {
     "data": {
      "text/plain": [
       "1039182.8339999999"
      ]
     },
     "execution_count": 152,
     "metadata": {},
     "output_type": "execute_result"
    }
   ],
   "source": [
    "LabourDay_sales=raw_data[(raw_data['Date'] == LabourDay1)|(raw_data['Date'] == LabourDay2)|(raw_data['Date'] == LabourDay3)|(raw_data['Date'] == LabourDay4)] \n",
    "LabourDay_mean_sales = LabourDay_sales['Weekly_Sales'].mean()\n",
    "LabourDay_mean_sales"
   ]
  },
  {
   "cell_type": "code",
   "execution_count": 148,
   "id": "86e3918f",
   "metadata": {
    "scrolled": false
   },
   "outputs": [
    {
     "data": {
      "text/plain": [
       "1471273.427777778"
      ]
     },
     "execution_count": 148,
     "metadata": {},
     "output_type": "execute_result"
    }
   ],
   "source": [
    "Thanksgiving_sales=raw_data[(raw_data['Date'] == Thanksgiving1)|(raw_data['Date'] == Thanksgiving2)|(raw_data['Date'] == Thanksgiving3)|(raw_data['Date'] == Thanksgiving4)] \n",
    "Thanksgiving_mean_sales = Thanksgiving_sales['Weekly_Sales'].mean()\n",
    "Thanksgiving_mean_sales"
   ]
  },
  {
   "cell_type": "code",
   "execution_count": 149,
   "id": "cccef4c1",
   "metadata": {},
   "outputs": [
    {
     "data": {
      "text/plain": [
       "960833.1115555551"
      ]
     },
     "execution_count": 149,
     "metadata": {},
     "output_type": "execute_result"
    }
   ],
   "source": [
    "Christmas_sales=raw_data[(raw_data['Date'] == Christmas1)|(raw_data['Date'] == Christmas2)|(raw_data['Date'] == Christmas3)|(raw_data['Date'] == Christmas4)] \n",
    "Christmas_mean_sales = Christmas_sales['Weekly_Sales'].mean()\n",
    "Christmas_mean_sales"
   ]
  },
  {
   "cell_type": "markdown",
   "id": "fd80689f",
   "metadata": {},
   "source": [
    "## Statistical Model\n",
    "\n",
    "*For Store 1 – Build  prediction models to forecast demand*\n",
    "\n",
    "- Linear Regression – Utilize variables like date and restructure dates as 1 for 5 Feb 2010 (starting from the earliest date in order). Hypothesize if CPI, unemployment, and fuel price have any impact on sales.\n",
    "\n",
    "- Change dates into days by creating new variable."
   ]
  },
  {
   "cell_type": "code",
   "execution_count": null,
   "id": "3216b814",
   "metadata": {},
   "outputs": [],
   "source": []
  }
 ],
 "metadata": {
  "kernelspec": {
   "display_name": "Python 3 (ipykernel)",
   "language": "python",
   "name": "python3"
  },
  "language_info": {
   "codemirror_mode": {
    "name": "ipython",
    "version": 3
   },
   "file_extension": ".py",
   "mimetype": "text/x-python",
   "name": "python",
   "nbconvert_exporter": "python",
   "pygments_lexer": "ipython3",
   "version": "3.9.7"
  },
  "varInspector": {
   "cols": {
    "lenName": 16,
    "lenType": 16,
    "lenVar": 40
   },
   "kernels_config": {
    "python": {
     "delete_cmd_postfix": "",
     "delete_cmd_prefix": "del ",
     "library": "var_list.py",
     "varRefreshCmd": "print(var_dic_list())"
    },
    "r": {
     "delete_cmd_postfix": ") ",
     "delete_cmd_prefix": "rm(",
     "library": "var_list.r",
     "varRefreshCmd": "cat(var_dic_list()) "
    }
   },
   "types_to_exclude": [
    "module",
    "function",
    "builtin_function_or_method",
    "instance",
    "_Feature"
   ],
   "window_display": false
  }
 },
 "nbformat": 4,
 "nbformat_minor": 5
}
