{
 "cells": [
  {
   "cell_type": "markdown",
   "id": "a25d31c3",
   "metadata": {},
   "source": [
    "<font size=\"6\"><strong><center>IBM Employee Attrition Prediction </center></strong></font> \n",
    "\n",
    "<br>\n",
    "<center><span style=\"font-family: Arial;font-size:1.2em\">Rochelle Liu</center>\n",
    "<center><span style=\"font-family: Arial;font-size:1.2em\">04-2022</center>"
   ]
  },
  {
   "cell_type": "markdown",
   "id": "b77ce881",
   "metadata": {},
   "source": [
    "- Exploratory data analysis\n",
    "\n",
    " - Find the age distribution of employees in IBM\n",
    " - Explore attrition by age\n",
    " - Explore data for Left employees\n",
    " - Find out the distribution of employees by the education field\n",
    " - Give a bar chart for the number of married and unmarried employees\n",
    " \n",
    "- Build up a logistic regression model to predict which employees are likely to attrite.\n",
    "\n"
   ]
  },
  {
   "cell_type": "code",
   "execution_count": 43,
   "id": "57599a17",
   "metadata": {},
   "outputs": [],
   "source": [
    "import pandas as pd\n",
    "import numpy as np\n",
    "import matplotlib.pyplot as plt\n",
    "import seaborn as sns\n",
    "%matplotlib inline\n",
    "from patsy import dmatrices\n",
    "import sklearn\n",
    "import tensorflow as tf"
   ]
  },
  {
   "cell_type": "code",
   "execution_count": 44,
   "id": "2c6792ee",
   "metadata": {},
   "outputs": [],
   "source": [
    "df = pd.read_csv(\"IBM Attrition Data.csv\")"
   ]
  },
  {
   "cell_type": "code",
   "execution_count": 45,
   "id": "5edea77a",
   "metadata": {},
   "outputs": [
    {
     "data": {
      "text/html": [
       "<div>\n",
       "<style scoped>\n",
       "    .dataframe tbody tr th:only-of-type {\n",
       "        vertical-align: middle;\n",
       "    }\n",
       "\n",
       "    .dataframe tbody tr th {\n",
       "        vertical-align: top;\n",
       "    }\n",
       "\n",
       "    .dataframe thead th {\n",
       "        text-align: right;\n",
       "    }\n",
       "</style>\n",
       "<table border=\"1\" class=\"dataframe\">\n",
       "  <thead>\n",
       "    <tr style=\"text-align: right;\">\n",
       "      <th></th>\n",
       "      <th>Age</th>\n",
       "      <th>Attrition</th>\n",
       "      <th>Department</th>\n",
       "      <th>DistanceFromHome</th>\n",
       "      <th>Education</th>\n",
       "      <th>EducationField</th>\n",
       "      <th>EnvironmentSatisfaction</th>\n",
       "      <th>JobSatisfaction</th>\n",
       "      <th>MaritalStatus</th>\n",
       "      <th>MonthlyIncome</th>\n",
       "      <th>NumCompaniesWorked</th>\n",
       "      <th>WorkLifeBalance</th>\n",
       "      <th>YearsAtCompany</th>\n",
       "    </tr>\n",
       "  </thead>\n",
       "  <tbody>\n",
       "    <tr>\n",
       "      <th>0</th>\n",
       "      <td>41</td>\n",
       "      <td>Yes</td>\n",
       "      <td>Sales</td>\n",
       "      <td>1</td>\n",
       "      <td>2</td>\n",
       "      <td>Life Sciences</td>\n",
       "      <td>2</td>\n",
       "      <td>4</td>\n",
       "      <td>Single</td>\n",
       "      <td>5993</td>\n",
       "      <td>8</td>\n",
       "      <td>1</td>\n",
       "      <td>6</td>\n",
       "    </tr>\n",
       "    <tr>\n",
       "      <th>1</th>\n",
       "      <td>49</td>\n",
       "      <td>No</td>\n",
       "      <td>Research &amp; Development</td>\n",
       "      <td>8</td>\n",
       "      <td>1</td>\n",
       "      <td>Life Sciences</td>\n",
       "      <td>3</td>\n",
       "      <td>2</td>\n",
       "      <td>Married</td>\n",
       "      <td>5130</td>\n",
       "      <td>1</td>\n",
       "      <td>3</td>\n",
       "      <td>10</td>\n",
       "    </tr>\n",
       "    <tr>\n",
       "      <th>2</th>\n",
       "      <td>37</td>\n",
       "      <td>Yes</td>\n",
       "      <td>Research &amp; Development</td>\n",
       "      <td>2</td>\n",
       "      <td>2</td>\n",
       "      <td>Other</td>\n",
       "      <td>4</td>\n",
       "      <td>3</td>\n",
       "      <td>Single</td>\n",
       "      <td>2090</td>\n",
       "      <td>6</td>\n",
       "      <td>3</td>\n",
       "      <td>0</td>\n",
       "    </tr>\n",
       "    <tr>\n",
       "      <th>3</th>\n",
       "      <td>33</td>\n",
       "      <td>No</td>\n",
       "      <td>Research &amp; Development</td>\n",
       "      <td>3</td>\n",
       "      <td>4</td>\n",
       "      <td>Life Sciences</td>\n",
       "      <td>4</td>\n",
       "      <td>3</td>\n",
       "      <td>Married</td>\n",
       "      <td>2909</td>\n",
       "      <td>1</td>\n",
       "      <td>3</td>\n",
       "      <td>8</td>\n",
       "    </tr>\n",
       "    <tr>\n",
       "      <th>4</th>\n",
       "      <td>27</td>\n",
       "      <td>No</td>\n",
       "      <td>Research &amp; Development</td>\n",
       "      <td>2</td>\n",
       "      <td>1</td>\n",
       "      <td>Medical</td>\n",
       "      <td>1</td>\n",
       "      <td>2</td>\n",
       "      <td>Married</td>\n",
       "      <td>3468</td>\n",
       "      <td>9</td>\n",
       "      <td>3</td>\n",
       "      <td>2</td>\n",
       "    </tr>\n",
       "  </tbody>\n",
       "</table>\n",
       "</div>"
      ],
      "text/plain": [
       "   Age Attrition              Department  DistanceFromHome  Education  \\\n",
       "0   41       Yes                   Sales                 1          2   \n",
       "1   49        No  Research & Development                 8          1   \n",
       "2   37       Yes  Research & Development                 2          2   \n",
       "3   33        No  Research & Development                 3          4   \n",
       "4   27        No  Research & Development                 2          1   \n",
       "\n",
       "  EducationField  EnvironmentSatisfaction  JobSatisfaction MaritalStatus  \\\n",
       "0  Life Sciences                        2                4        Single   \n",
       "1  Life Sciences                        3                2       Married   \n",
       "2          Other                        4                3        Single   \n",
       "3  Life Sciences                        4                3       Married   \n",
       "4        Medical                        1                2       Married   \n",
       "\n",
       "   MonthlyIncome  NumCompaniesWorked  WorkLifeBalance  YearsAtCompany  \n",
       "0           5993                   8                1               6  \n",
       "1           5130                   1                3              10  \n",
       "2           2090                   6                3               0  \n",
       "3           2909                   1                3               8  \n",
       "4           3468                   9                3               2  "
      ]
     },
     "execution_count": 45,
     "metadata": {},
     "output_type": "execute_result"
    }
   ],
   "source": [
    "df.head()"
   ]
  },
  {
   "cell_type": "code",
   "execution_count": 46,
   "id": "2b5cfdff",
   "metadata": {},
   "outputs": [
    {
     "data": {
      "text/plain": [
       "Index(['Age', 'Attrition', 'Department', 'DistanceFromHome', 'Education',\n",
       "       'EducationField', 'EnvironmentSatisfaction', 'JobSatisfaction',\n",
       "       'MaritalStatus', 'MonthlyIncome', 'NumCompaniesWorked',\n",
       "       'WorkLifeBalance', 'YearsAtCompany'],\n",
       "      dtype='object')"
      ]
     },
     "execution_count": 46,
     "metadata": {},
     "output_type": "execute_result"
    }
   ],
   "source": [
    "df.columns"
   ]
  },
  {
   "cell_type": "code",
   "execution_count": 47,
   "id": "4e0d9490",
   "metadata": {},
   "outputs": [
    {
     "data": {
      "image/png": "[encoded data removed]",
      "text/plain": [
       "<Figure size 720x576 with 1 Axes>"
      ]
     },
     "metadata": {
      "needs_background": "light"
     },
     "output_type": "display_data"
    }
   ],
   "source": [
    "#histogram for age\n",
    "plt.figure(figsize=(10,8))\n",
    "df['Age'].hist(bins=70, alpha=.8)\n",
    "plt.title(\"Age Distribution of Employees\")\n",
    "plt.xlabel(\"Age\")\n",
    "plt.ylabel(\"# of Employees\")\n",
    "plt.show()"
   ]
  },
  {
   "cell_type": "code",
   "execution_count": 48,
   "id": "1d3839fe",
   "metadata": {},
   "outputs": [
    {
     "name": "stderr",
     "output_type": "stream",
     "text": [
      "/Users/Rochelle_1/opt/anaconda3/envs/tf/lib/python3.7/site-packages/ipykernel_launcher.py:6: MatplotlibDeprecationWarning: The 'b' parameter of grid() has been renamed 'visible' since Matplotlib 3.5; support for the old name will be dropped two minor releases later.\n",
      "  \n"
     ]
    },
    {
     "data": {
      "image/png": "[encoded data removed]",
      "text/plain": [
       "<Figure size 720x576 with 1 Axes>"
      ]
     },
     "metadata": {
      "needs_background": "light"
     },
     "output_type": "display_data"
    }
   ],
   "source": [
    "#explore data for attrition by Age\n",
    "plt.figure(figsize=(10,8))\n",
    "plt.scatter(df.Attrition, df.Age, alpha=.55)\n",
    "plt.title(\"Attrition by age\")\n",
    "plt.ylabel(\"Age\")\n",
    "plt.grid(b=True, which='major', axis='y')\n",
    "plt.show()"
   ]
  },
  {
   "cell_type": "code",
   "execution_count": 49,
   "id": "ba38cf7e",
   "metadata": {},
   "outputs": [
    {
     "data": {
      "image/png": "[encoded data removed]",
      "text/plain": [
       "<Figure size 576x432 with 1 Axes>"
      ]
     },
     "metadata": {
      "needs_background": "light"
     },
     "output_type": "display_data"
    }
   ],
   "source": [
    "#explore data for Left employees\n",
    "plt.figure(figsize=(8,6))\n",
    "df.Attrition.value_counts().plot(kind='barh', color='g',alpha=.5)\n",
    "plt.title(\"Attrition breakdown\")\n",
    "plt.show()"
   ]
  },
  {
   "cell_type": "code",
   "execution_count": 50,
   "id": "e7c2e01f",
   "metadata": {},
   "outputs": [
    {
     "data": {
      "image/png": "[encoded data removed]",
      "text/plain": [
       "<Figure size 720x576 with 1 Axes>"
      ]
     },
     "metadata": {
      "needs_background": "light"
     },
     "output_type": "display_data"
    }
   ],
   "source": [
    "#explore data for Education Field distribution\n",
    "plt.figure(figsize=(10,8))\n",
    "df.EducationField.value_counts().plot(kind='barh',color='g',alpha=.5)\n",
    "plt.title(\"Education Field Distribution\")\n",
    "plt.show()"
   ]
  },
  {
   "cell_type": "code",
   "execution_count": 51,
   "id": "d61494b4",
   "metadata": {},
   "outputs": [
    {
     "data": {
      "image/png": "[encoded data removed]",
      "text/plain": [
       "<Figure size 720x576 with 1 Axes>"
      ]
     },
     "metadata": {
      "needs_background": "light"
     },
     "output_type": "display_data"
    }
   ],
   "source": [
    "#explore data for marital status\n",
    "plt.figure(figsize=(10,8))\n",
    "df.MaritalStatus.value_counts().plot(kind='bar', alpha =.5)\n",
    "plt.show()"
   ]
  },
  {
   "cell_type": "markdown",
   "id": "9fc113d5",
   "metadata": {},
   "source": [
    "## Logistic Regression Model\n",
    "                ———— predict which employees are likely to attrite"
   ]
  },
  {
   "cell_type": "code",
   "execution_count": 52,
   "id": "7f856c8e",
   "metadata": {},
   "outputs": [
    {
     "data": {
      "text/html": [
       "<div>\n",
       "<style scoped>\n",
       "    .dataframe tbody tr th:only-of-type {\n",
       "        vertical-align: middle;\n",
       "    }\n",
       "\n",
       "    .dataframe tbody tr th {\n",
       "        vertical-align: top;\n",
       "    }\n",
       "\n",
       "    .dataframe thead th {\n",
       "        text-align: right;\n",
       "    }\n",
       "</style>\n",
       "<table border=\"1\" class=\"dataframe\">\n",
       "  <thead>\n",
       "    <tr style=\"text-align: right;\">\n",
       "      <th></th>\n",
       "      <th>Age</th>\n",
       "      <th>DistanceFromHome</th>\n",
       "      <th>Education</th>\n",
       "      <th>EnvironmentSatisfaction</th>\n",
       "      <th>JobSatisfaction</th>\n",
       "      <th>MonthlyIncome</th>\n",
       "      <th>NumCompaniesWorked</th>\n",
       "      <th>WorkLifeBalance</th>\n",
       "      <th>YearsAtCompany</th>\n",
       "    </tr>\n",
       "  </thead>\n",
       "  <tbody>\n",
       "    <tr>\n",
       "      <th>count</th>\n",
       "      <td>1470.000000</td>\n",
       "      <td>1470.000000</td>\n",
       "      <td>1470.000000</td>\n",
       "      <td>1470.000000</td>\n",
       "      <td>1470.000000</td>\n",
       "      <td>1470.000000</td>\n",
       "      <td>1470.000000</td>\n",
       "      <td>1470.000000</td>\n",
       "      <td>1470.000000</td>\n",
       "    </tr>\n",
       "    <tr>\n",
       "      <th>mean</th>\n",
       "      <td>36.923810</td>\n",
       "      <td>9.192517</td>\n",
       "      <td>2.912925</td>\n",
       "      <td>2.721769</td>\n",
       "      <td>2.728571</td>\n",
       "      <td>6502.931293</td>\n",
       "      <td>2.693197</td>\n",
       "      <td>2.761224</td>\n",
       "      <td>7.008163</td>\n",
       "    </tr>\n",
       "    <tr>\n",
       "      <th>std</th>\n",
       "      <td>9.135373</td>\n",
       "      <td>8.106864</td>\n",
       "      <td>1.024165</td>\n",
       "      <td>1.093082</td>\n",
       "      <td>1.102846</td>\n",
       "      <td>4707.956783</td>\n",
       "      <td>2.498009</td>\n",
       "      <td>0.706476</td>\n",
       "      <td>6.126525</td>\n",
       "    </tr>\n",
       "    <tr>\n",
       "      <th>min</th>\n",
       "      <td>18.000000</td>\n",
       "      <td>1.000000</td>\n",
       "      <td>1.000000</td>\n",
       "      <td>1.000000</td>\n",
       "      <td>1.000000</td>\n",
       "      <td>1009.000000</td>\n",
       "      <td>0.000000</td>\n",
       "      <td>1.000000</td>\n",
       "      <td>0.000000</td>\n",
       "    </tr>\n",
       "    <tr>\n",
       "      <th>25%</th>\n",
       "      <td>30.000000</td>\n",
       "      <td>2.000000</td>\n",
       "      <td>2.000000</td>\n",
       "      <td>2.000000</td>\n",
       "      <td>2.000000</td>\n",
       "      <td>2911.000000</td>\n",
       "      <td>1.000000</td>\n",
       "      <td>2.000000</td>\n",
       "      <td>3.000000</td>\n",
       "    </tr>\n",
       "    <tr>\n",
       "      <th>50%</th>\n",
       "      <td>36.000000</td>\n",
       "      <td>7.000000</td>\n",
       "      <td>3.000000</td>\n",
       "      <td>3.000000</td>\n",
       "      <td>3.000000</td>\n",
       "      <td>4919.000000</td>\n",
       "      <td>2.000000</td>\n",
       "      <td>3.000000</td>\n",
       "      <td>5.000000</td>\n",
       "    </tr>\n",
       "    <tr>\n",
       "      <th>75%</th>\n",
       "      <td>43.000000</td>\n",
       "      <td>14.000000</td>\n",
       "      <td>4.000000</td>\n",
       "      <td>4.000000</td>\n",
       "      <td>4.000000</td>\n",
       "      <td>8379.000000</td>\n",
       "      <td>4.000000</td>\n",
       "      <td>3.000000</td>\n",
       "      <td>9.000000</td>\n",
       "    </tr>\n",
       "    <tr>\n",
       "      <th>max</th>\n",
       "      <td>60.000000</td>\n",
       "      <td>29.000000</td>\n",
       "      <td>5.000000</td>\n",
       "      <td>4.000000</td>\n",
       "      <td>4.000000</td>\n",
       "      <td>19999.000000</td>\n",
       "      <td>9.000000</td>\n",
       "      <td>4.000000</td>\n",
       "      <td>40.000000</td>\n",
       "    </tr>\n",
       "  </tbody>\n",
       "</table>\n",
       "</div>"
      ],
      "text/plain": [
       "               Age  DistanceFromHome    Education  EnvironmentSatisfaction  \\\n",
       "count  1470.000000       1470.000000  1470.000000              1470.000000   \n",
       "mean     36.923810          9.192517     2.912925                 2.721769   \n",
       "std       9.135373          8.106864     1.024165                 1.093082   \n",
       "min      18.000000          1.000000     1.000000                 1.000000   \n",
       "25%      30.000000          2.000000     2.000000                 2.000000   \n",
       "50%      36.000000          7.000000     3.000000                 3.000000   \n",
       "75%      43.000000         14.000000     4.000000                 4.000000   \n",
       "max      60.000000         29.000000     5.000000                 4.000000   \n",
       "\n",
       "       JobSatisfaction  MonthlyIncome  NumCompaniesWorked  WorkLifeBalance  \\\n",
       "count      1470.000000    1470.000000         1470.000000      1470.000000   \n",
       "mean          2.728571    6502.931293            2.693197         2.761224   \n",
       "std           1.102846    4707.956783            2.498009         0.706476   \n",
       "min           1.000000    1009.000000            0.000000         1.000000   \n",
       "25%           2.000000    2911.000000            1.000000         2.000000   \n",
       "50%           3.000000    4919.000000            2.000000         3.000000   \n",
       "75%           4.000000    8379.000000            4.000000         3.000000   \n",
       "max           4.000000   19999.000000            9.000000         4.000000   \n",
       "\n",
       "       YearsAtCompany  \n",
       "count     1470.000000  \n",
       "mean         7.008163  \n",
       "std          6.126525  \n",
       "min          0.000000  \n",
       "25%          3.000000  \n",
       "50%          5.000000  \n",
       "75%          9.000000  \n",
       "max         40.000000  "
      ]
     },
     "execution_count": 52,
     "metadata": {},
     "output_type": "execute_result"
    }
   ],
   "source": [
    "df.describe()"
   ]
  },
  {
   "cell_type": "code",
   "execution_count": 53,
   "id": "f3b3305a",
   "metadata": {},
   "outputs": [
    {
     "name": "stdout",
     "output_type": "stream",
     "text": [
      "<class 'pandas.core.frame.DataFrame'>\n",
      "RangeIndex: 1470 entries, 0 to 1469\n",
      "Data columns (total 13 columns):\n",
      " #   Column                   Non-Null Count  Dtype \n",
      "---  ------                   --------------  ----- \n",
      " 0   Age                      1470 non-null   int64 \n",
      " 1   Attrition                1470 non-null   object\n",
      " 2   Department               1470 non-null   object\n",
      " 3   DistanceFromHome         1470 non-null   int64 \n",
      " 4   Education                1470 non-null   int64 \n",
      " 5   EducationField           1470 non-null   object\n",
      " 6   EnvironmentSatisfaction  1470 non-null   int64 \n",
      " 7   JobSatisfaction          1470 non-null   int64 \n",
      " 8   MaritalStatus            1470 non-null   object\n",
      " 9   MonthlyIncome            1470 non-null   int64 \n",
      " 10  NumCompaniesWorked       1470 non-null   int64 \n",
      " 11  WorkLifeBalance          1470 non-null   int64 \n",
      " 12  YearsAtCompany           1470 non-null   int64 \n",
      "dtypes: int64(9), object(4)\n",
      "memory usage: 149.4+ KB\n"
     ]
    }
   ],
   "source": [
    "df.info()"
   ]
  },
  {
   "cell_type": "code",
   "execution_count": 54,
   "id": "8d3889f3",
   "metadata": {},
   "outputs": [
    {
     "data": {
      "text/plain": [
       "No     1233\n",
       "Yes     237\n",
       "Name: Attrition, dtype: int64"
      ]
     },
     "execution_count": 54,
     "metadata": {},
     "output_type": "execute_result"
    }
   ],
   "source": [
    "df['Attrition'].value_counts()"
   ]
  },
  {
   "cell_type": "code",
   "execution_count": 55,
   "id": "7bdbd521",
   "metadata": {},
   "outputs": [],
   "source": [
    "#replace \"Yes\"/\"No\" by 0/1\n",
    "df[\"Attrition\"].replace('Yes',1, inplace= True)\n",
    "df[\"Attrition\"].replace('No',0, inplace= True)"
   ]
  },
  {
   "cell_type": "code",
   "execution_count": 56,
   "id": "372376e8",
   "metadata": {},
   "outputs": [
    {
     "data": {
      "text/html": [
       "<div>\n",
       "<style scoped>\n",
       "    .dataframe tbody tr th:only-of-type {\n",
       "        vertical-align: middle;\n",
       "    }\n",
       "\n",
       "    .dataframe tbody tr th {\n",
       "        vertical-align: top;\n",
       "    }\n",
       "\n",
       "    .dataframe thead th {\n",
       "        text-align: right;\n",
       "    }\n",
       "</style>\n",
       "<table border=\"1\" class=\"dataframe\">\n",
       "  <thead>\n",
       "    <tr style=\"text-align: right;\">\n",
       "      <th></th>\n",
       "      <th>Age</th>\n",
       "      <th>Attrition</th>\n",
       "      <th>Department</th>\n",
       "      <th>DistanceFromHome</th>\n",
       "      <th>Education</th>\n",
       "      <th>EducationField</th>\n",
       "      <th>EnvironmentSatisfaction</th>\n",
       "      <th>JobSatisfaction</th>\n",
       "      <th>MaritalStatus</th>\n",
       "      <th>MonthlyIncome</th>\n",
       "      <th>NumCompaniesWorked</th>\n",
       "      <th>WorkLifeBalance</th>\n",
       "      <th>YearsAtCompany</th>\n",
       "    </tr>\n",
       "  </thead>\n",
       "  <tbody>\n",
       "    <tr>\n",
       "      <th>0</th>\n",
       "      <td>41</td>\n",
       "      <td>1</td>\n",
       "      <td>Sales</td>\n",
       "      <td>1</td>\n",
       "      <td>2</td>\n",
       "      <td>Life Sciences</td>\n",
       "      <td>2</td>\n",
       "      <td>4</td>\n",
       "      <td>Single</td>\n",
       "      <td>5993</td>\n",
       "      <td>8</td>\n",
       "      <td>1</td>\n",
       "      <td>6</td>\n",
       "    </tr>\n",
       "    <tr>\n",
       "      <th>1</th>\n",
       "      <td>49</td>\n",
       "      <td>0</td>\n",
       "      <td>Research &amp; Development</td>\n",
       "      <td>8</td>\n",
       "      <td>1</td>\n",
       "      <td>Life Sciences</td>\n",
       "      <td>3</td>\n",
       "      <td>2</td>\n",
       "      <td>Married</td>\n",
       "      <td>5130</td>\n",
       "      <td>1</td>\n",
       "      <td>3</td>\n",
       "      <td>10</td>\n",
       "    </tr>\n",
       "    <tr>\n",
       "      <th>2</th>\n",
       "      <td>37</td>\n",
       "      <td>1</td>\n",
       "      <td>Research &amp; Development</td>\n",
       "      <td>2</td>\n",
       "      <td>2</td>\n",
       "      <td>Other</td>\n",
       "      <td>4</td>\n",
       "      <td>3</td>\n",
       "      <td>Single</td>\n",
       "      <td>2090</td>\n",
       "      <td>6</td>\n",
       "      <td>3</td>\n",
       "      <td>0</td>\n",
       "    </tr>\n",
       "    <tr>\n",
       "      <th>3</th>\n",
       "      <td>33</td>\n",
       "      <td>0</td>\n",
       "      <td>Research &amp; Development</td>\n",
       "      <td>3</td>\n",
       "      <td>4</td>\n",
       "      <td>Life Sciences</td>\n",
       "      <td>4</td>\n",
       "      <td>3</td>\n",
       "      <td>Married</td>\n",
       "      <td>2909</td>\n",
       "      <td>1</td>\n",
       "      <td>3</td>\n",
       "      <td>8</td>\n",
       "    </tr>\n",
       "    <tr>\n",
       "      <th>4</th>\n",
       "      <td>27</td>\n",
       "      <td>0</td>\n",
       "      <td>Research &amp; Development</td>\n",
       "      <td>2</td>\n",
       "      <td>1</td>\n",
       "      <td>Medical</td>\n",
       "      <td>1</td>\n",
       "      <td>2</td>\n",
       "      <td>Married</td>\n",
       "      <td>3468</td>\n",
       "      <td>9</td>\n",
       "      <td>3</td>\n",
       "      <td>2</td>\n",
       "    </tr>\n",
       "    <tr>\n",
       "      <th>5</th>\n",
       "      <td>32</td>\n",
       "      <td>0</td>\n",
       "      <td>Research &amp; Development</td>\n",
       "      <td>2</td>\n",
       "      <td>2</td>\n",
       "      <td>Life Sciences</td>\n",
       "      <td>4</td>\n",
       "      <td>4</td>\n",
       "      <td>Single</td>\n",
       "      <td>3068</td>\n",
       "      <td>0</td>\n",
       "      <td>2</td>\n",
       "      <td>7</td>\n",
       "    </tr>\n",
       "    <tr>\n",
       "      <th>6</th>\n",
       "      <td>59</td>\n",
       "      <td>0</td>\n",
       "      <td>Research &amp; Development</td>\n",
       "      <td>3</td>\n",
       "      <td>3</td>\n",
       "      <td>Medical</td>\n",
       "      <td>3</td>\n",
       "      <td>1</td>\n",
       "      <td>Married</td>\n",
       "      <td>2670</td>\n",
       "      <td>4</td>\n",
       "      <td>2</td>\n",
       "      <td>1</td>\n",
       "    </tr>\n",
       "    <tr>\n",
       "      <th>7</th>\n",
       "      <td>30</td>\n",
       "      <td>0</td>\n",
       "      <td>Research &amp; Development</td>\n",
       "      <td>24</td>\n",
       "      <td>1</td>\n",
       "      <td>Life Sciences</td>\n",
       "      <td>4</td>\n",
       "      <td>3</td>\n",
       "      <td>Divorced</td>\n",
       "      <td>2693</td>\n",
       "      <td>1</td>\n",
       "      <td>3</td>\n",
       "      <td>1</td>\n",
       "    </tr>\n",
       "    <tr>\n",
       "      <th>8</th>\n",
       "      <td>38</td>\n",
       "      <td>0</td>\n",
       "      <td>Research &amp; Development</td>\n",
       "      <td>23</td>\n",
       "      <td>3</td>\n",
       "      <td>Life Sciences</td>\n",
       "      <td>4</td>\n",
       "      <td>3</td>\n",
       "      <td>Single</td>\n",
       "      <td>9526</td>\n",
       "      <td>0</td>\n",
       "      <td>3</td>\n",
       "      <td>9</td>\n",
       "    </tr>\n",
       "    <tr>\n",
       "      <th>9</th>\n",
       "      <td>36</td>\n",
       "      <td>0</td>\n",
       "      <td>Research &amp; Development</td>\n",
       "      <td>27</td>\n",
       "      <td>3</td>\n",
       "      <td>Medical</td>\n",
       "      <td>3</td>\n",
       "      <td>3</td>\n",
       "      <td>Married</td>\n",
       "      <td>5237</td>\n",
       "      <td>6</td>\n",
       "      <td>2</td>\n",
       "      <td>7</td>\n",
       "    </tr>\n",
       "  </tbody>\n",
       "</table>\n",
       "</div>"
      ],
      "text/plain": [
       "   Age  Attrition              Department  DistanceFromHome  Education  \\\n",
       "0   41          1                   Sales                 1          2   \n",
       "1   49          0  Research & Development                 8          1   \n",
       "2   37          1  Research & Development                 2          2   \n",
       "3   33          0  Research & Development                 3          4   \n",
       "4   27          0  Research & Development                 2          1   \n",
       "5   32          0  Research & Development                 2          2   \n",
       "6   59          0  Research & Development                 3          3   \n",
       "7   30          0  Research & Development                24          1   \n",
       "8   38          0  Research & Development                23          3   \n",
       "9   36          0  Research & Development                27          3   \n",
       "\n",
       "  EducationField  EnvironmentSatisfaction  JobSatisfaction MaritalStatus  \\\n",
       "0  Life Sciences                        2                4        Single   \n",
       "1  Life Sciences                        3                2       Married   \n",
       "2          Other                        4                3        Single   \n",
       "3  Life Sciences                        4                3       Married   \n",
       "4        Medical                        1                2       Married   \n",
       "5  Life Sciences                        4                4        Single   \n",
       "6        Medical                        3                1       Married   \n",
       "7  Life Sciences                        4                3      Divorced   \n",
       "8  Life Sciences                        4                3        Single   \n",
       "9        Medical                        3                3       Married   \n",
       "\n",
       "   MonthlyIncome  NumCompaniesWorked  WorkLifeBalance  YearsAtCompany  \n",
       "0           5993                   8                1               6  \n",
       "1           5130                   1                3              10  \n",
       "2           2090                   6                3               0  \n",
       "3           2909                   1                3               8  \n",
       "4           3468                   9                3               2  \n",
       "5           3068                   0                2               7  \n",
       "6           2670                   4                2               1  \n",
       "7           2693                   1                3               1  \n",
       "8           9526                   0                3               9  \n",
       "9           5237                   6                2               7  "
      ]
     },
     "execution_count": 56,
     "metadata": {},
     "output_type": "execute_result"
    }
   ],
   "source": [
    "df.head(10)"
   ]
  },
  {
   "cell_type": "code",
   "execution_count": 57,
   "id": "10dcaa92",
   "metadata": {},
   "outputs": [
    {
     "data": {
      "text/plain": [
       "0    1\n",
       "1    0\n",
       "2    1\n",
       "3    0\n",
       "4    0\n",
       "Name: Attrition, dtype: int64"
      ]
     },
     "execution_count": 57,
     "metadata": {},
     "output_type": "execute_result"
    }
   ],
   "source": [
    "#building up a logistic regression model\n",
    "X = df.drop(['Attrition'], axis=1)\n",
    "Y = df['Attrition']\n",
    "Y.head()"
   ]
  },
  {
   "cell_type": "code",
   "execution_count": 58,
   "id": "9592b99a",
   "metadata": {},
   "outputs": [],
   "source": [
    "df['EducationField'].replace('Life Sciences',1, inplace=True)\n",
    "df['EducationField'].replace('Medical',2, inplace=True)\n",
    "df['EducationField'].replace('Marketing', 3, inplace=True)\n",
    "df['EducationField'].replace('Other',4, inplace=True)\n",
    "df['EducationField'].replace('Technical Degree',5, inplace=True)\n",
    "df['EducationField'].replace('Human Resources', 6, inplace=True)"
   ]
  },
  {
   "cell_type": "code",
   "execution_count": 59,
   "id": "cc1767cd",
   "metadata": {},
   "outputs": [
    {
     "data": {
      "text/plain": [
       "1    606\n",
       "2    464\n",
       "3    159\n",
       "5    132\n",
       "4     82\n",
       "6     27\n",
       "Name: EducationField, dtype: int64"
      ]
     },
     "execution_count": 59,
     "metadata": {},
     "output_type": "execute_result"
    }
   ],
   "source": [
    "df['EducationField'].value_counts()"
   ]
  },
  {
   "cell_type": "code",
   "execution_count": 60,
   "id": "1ededad5",
   "metadata": {},
   "outputs": [
    {
     "data": {
      "text/plain": [
       "Research & Development    961\n",
       "Sales                     446\n",
       "Human Resources            63\n",
       "Name: Department, dtype: int64"
      ]
     },
     "execution_count": 60,
     "metadata": {},
     "output_type": "execute_result"
    }
   ],
   "source": [
    "df['Department'].value_counts()"
   ]
  },
  {
   "cell_type": "code",
   "execution_count": 61,
   "id": "903565c7",
   "metadata": {},
   "outputs": [],
   "source": [
    "df['Department'].replace('Research & Development',1,inplace=True)\n",
    "df['Department'].replace('Sales',2,inplace=True)\n",
    "df['Department'].replace('Human Resources',3,inplace=True)"
   ]
  },
  {
   "cell_type": "code",
   "execution_count": 62,
   "id": "3cea3c63",
   "metadata": {},
   "outputs": [
    {
     "data": {
      "text/plain": [
       "1    961\n",
       "2    446\n",
       "3     63\n",
       "Name: Department, dtype: int64"
      ]
     },
     "execution_count": 62,
     "metadata": {},
     "output_type": "execute_result"
    }
   ],
   "source": [
    "df['Department'].value_counts()"
   ]
  },
  {
   "cell_type": "code",
   "execution_count": 63,
   "id": "905fec44",
   "metadata": {},
   "outputs": [
    {
     "data": {
      "text/plain": [
       "Married     673\n",
       "Single      470\n",
       "Divorced    327\n",
       "Name: MaritalStatus, dtype: int64"
      ]
     },
     "execution_count": 63,
     "metadata": {},
     "output_type": "execute_result"
    }
   ],
   "source": [
    "df['MaritalStatus'].value_counts()"
   ]
  },
  {
   "cell_type": "code",
   "execution_count": 64,
   "id": "1c53e373",
   "metadata": {},
   "outputs": [],
   "source": [
    "df['MaritalStatus'].replace('Married',1,inplace=True)\n",
    "df['MaritalStatus'].replace('Single',2,inplace=True)\n",
    "df['MaritalStatus'].replace('Divorced',3,inplace=True)"
   ]
  },
  {
   "cell_type": "code",
   "execution_count": 65,
   "id": "fd38e94b",
   "metadata": {},
   "outputs": [
    {
     "data": {
      "text/plain": [
       "1    673\n",
       "2    470\n",
       "3    327\n",
       "Name: MaritalStatus, dtype: int64"
      ]
     },
     "execution_count": 65,
     "metadata": {},
     "output_type": "execute_result"
    }
   ],
   "source": [
    "df['MaritalStatus'].value_counts()"
   ]
  },
  {
   "cell_type": "code",
   "execution_count": 66,
   "id": "74fcd3a7",
   "metadata": {},
   "outputs": [
    {
     "data": {
      "text/plain": [
       "Age                        int64\n",
       "Attrition                  int64\n",
       "Department                 int64\n",
       "DistanceFromHome           int64\n",
       "Education                  int64\n",
       "EducationField             int64\n",
       "EnvironmentSatisfaction    int64\n",
       "JobSatisfaction            int64\n",
       "MaritalStatus              int64\n",
       "MonthlyIncome              int64\n",
       "NumCompaniesWorked         int64\n",
       "WorkLifeBalance            int64\n",
       "YearsAtCompany             int64\n",
       "dtype: object"
      ]
     },
     "execution_count": 66,
     "metadata": {},
     "output_type": "execute_result"
    }
   ],
   "source": [
    "x=df.select_dtypes(include=['int64'])\n",
    "x.dtypes"
   ]
  },
  {
   "cell_type": "code",
   "execution_count": 80,
   "id": "0ee37a41",
   "metadata": {},
   "outputs": [
    {
     "data": {
      "text/plain": [
       "0    1\n",
       "1    0\n",
       "2    1\n",
       "3    0\n",
       "4    0\n",
       "Name: Attrition, dtype: int64"
      ]
     },
     "execution_count": 80,
     "metadata": {},
     "output_type": "execute_result"
    }
   ],
   "source": [
    "y= Y\n",
    "y.head()"
   ]
  },
  {
   "cell_type": "code",
   "execution_count": 82,
   "id": "c8b93960",
   "metadata": {},
   "outputs": [
    {
     "name": "stdout",
     "output_type": "stream",
     "text": [
      "Index(['Intercept', 'Age', 'Department', 'DistanceFromHome', 'Education',\n",
      "       'EducationField', 'YearsAtCompany'],\n",
      "      dtype='object')\n"
     ]
    }
   ],
   "source": [
    "y, x = dmatrices('Attrition ~ Age + Department + \\\n",
    "                  DistanceFromHome + Education + EducationField + YearsAtCompany',\n",
    "                  df, return_type=\"dataframe\")\n",
    "print (x.columns)"
   ]
  },
  {
   "cell_type": "code",
   "execution_count": 83,
   "id": "f31127ba",
   "metadata": {},
   "outputs": [],
   "source": [
    "y = np.ravel(y)"
   ]
  },
  {
   "cell_type": "code",
   "execution_count": 84,
   "id": "efc1d550",
   "metadata": {},
   "outputs": [
    {
     "data": {
      "text/plain": [
       "0.8408163265306122"
      ]
     },
     "execution_count": 84,
     "metadata": {},
     "output_type": "execute_result"
    }
   ],
   "source": [
    "from sklearn.linear_model import LogisticRegression\n",
    "\n",
    "model = LogisticRegression()\n",
    "model = model.fit(x, y)\n",
    "\n",
    "#check the accuracy on the training set\n",
    "model.score(x, y)"
   ]
  },
  {
   "cell_type": "code",
   "execution_count": 85,
   "id": "c7e3a15d",
   "metadata": {},
   "outputs": [
    {
     "data": {
      "text/plain": [
       "0.16122448979591836"
      ]
     },
     "execution_count": 85,
     "metadata": {},
     "output_type": "execute_result"
    }
   ],
   "source": [
    "y.mean()"
   ]
  },
  {
   "cell_type": "code",
   "execution_count": 89,
   "id": "56a72264",
   "metadata": {},
   "outputs": [
    {
     "data": {
      "text/plain": [
       "LogisticRegression()"
      ]
     },
     "execution_count": 89,
     "metadata": {},
     "output_type": "execute_result"
    }
   ],
   "source": [
    "X_train, X_test, y_train, y_test = sklearn.model_selection.train_test_split(x,y, test_size=0.3, random_state=0)\n",
    "model2 = LogisticRegression()\n",
    "model2.fit(X_train, y_train)"
   ]
  },
  {
   "cell_type": "code",
   "execution_count": 91,
   "id": "6d4cb400",
   "metadata": {},
   "outputs": [],
   "source": [
    "predicted = model2.predict(X_test)"
   ]
  },
  {
   "cell_type": "code",
   "execution_count": 93,
   "id": "81c97856",
   "metadata": {},
   "outputs": [
    {
     "data": {
      "text/plain": [
       "array([[0.86179618, 0.13820382],\n",
       "       [0.80754591, 0.19245409],\n",
       "       [0.74123919, 0.25876081],\n",
       "       [0.83441341, 0.16558659],\n",
       "       [0.73499931, 0.26500069],\n",
       "       [0.79097736, 0.20902264],\n",
       "       [0.85615193, 0.14384807],\n",
       "       [0.85699667, 0.14300333],\n",
       "       [0.9669906 , 0.0330094 ],\n",
       "       [0.93685214, 0.06314786],\n",
       "       [0.95099283, 0.04900717],\n",
       "       [0.8310155 , 0.1689845 ],\n",
       "       [0.86296559, 0.13703441],\n",
       "       [0.86581194, 0.13418806],\n",
       "       [0.88750608, 0.11249392],\n",
       "       [0.88892616, 0.11107384],\n",
       "       [0.88569731, 0.11430269],\n",
       "       [0.7851658 , 0.2148342 ],\n",
       "       [0.7979449 , 0.2020551 ],\n",
       "       [0.88511309, 0.11488691],\n",
       "       [0.70651577, 0.29348423],\n",
       "       [0.94676697, 0.05323303],\n",
       "       [0.86736253, 0.13263747],\n",
       "       [0.84276449, 0.15723551],\n",
       "       [0.60336815, 0.39663185],\n",
       "       [0.81129199, 0.18870801],\n",
       "       [0.91813735, 0.08186265],\n",
       "       [0.93285524, 0.06714476],\n",
       "       [0.68230736, 0.31769264],\n",
       "       [0.87027143, 0.12972857],\n",
       "       [0.87266388, 0.12733612],\n",
       "       [0.76968733, 0.23031267],\n",
       "       [0.86435782, 0.13564218],\n",
       "       [0.95758885, 0.04241115],\n",
       "       [0.84461489, 0.15538511],\n",
       "       [0.86719347, 0.13280653],\n",
       "       [0.90465988, 0.09534012],\n",
       "       [0.68936418, 0.31063582],\n",
       "       [0.90703621, 0.09296379],\n",
       "       [0.8066347 , 0.1933653 ],\n",
       "       [0.91515733, 0.08484267],\n",
       "       [0.82351264, 0.17648736],\n",
       "       [0.93711521, 0.06288479],\n",
       "       [0.93411326, 0.06588674],\n",
       "       [0.89447658, 0.10552342],\n",
       "       [0.85317748, 0.14682252],\n",
       "       [0.78922387, 0.21077613],\n",
       "       [0.84879889, 0.15120111],\n",
       "       [0.6640243 , 0.3359757 ],\n",
       "       [0.76252283, 0.23747717],\n",
       "       [0.92851116, 0.07148884],\n",
       "       [0.78953696, 0.21046304],\n",
       "       [0.86166588, 0.13833412],\n",
       "       [0.85837879, 0.14162121],\n",
       "       [0.87217675, 0.12782325],\n",
       "       [0.78950892, 0.21049108],\n",
       "       [0.87690796, 0.12309204],\n",
       "       [0.84165454, 0.15834546],\n",
       "       [0.72847123, 0.27152877],\n",
       "       [0.83181396, 0.16818604],\n",
       "       [0.90095031, 0.09904969],\n",
       "       [0.71077314, 0.28922686],\n",
       "       [0.92823028, 0.07176972],\n",
       "       [0.84375676, 0.15624324],\n",
       "       [0.79544102, 0.20455898],\n",
       "       [0.86826169, 0.13173831],\n",
       "       [0.91679454, 0.08320546],\n",
       "       [0.84763057, 0.15236943],\n",
       "       [0.89253709, 0.10746291],\n",
       "       [0.62872078, 0.37127922],\n",
       "       [0.93875399, 0.06124601],\n",
       "       [0.72620321, 0.27379679],\n",
       "       [0.85652975, 0.14347025],\n",
       "       [0.84226023, 0.15773977],\n",
       "       [0.77436372, 0.22563628],\n",
       "       [0.71899553, 0.28100447],\n",
       "       [0.93587395, 0.06412605],\n",
       "       [0.95710076, 0.04289924],\n",
       "       [0.79185823, 0.20814177],\n",
       "       [0.89370441, 0.10629559],\n",
       "       [0.91382044, 0.08617956],\n",
       "       [0.79354589, 0.20645411],\n",
       "       [0.77934012, 0.22065988],\n",
       "       [0.79638966, 0.20361034],\n",
       "       [0.83800504, 0.16199496],\n",
       "       [0.71395653, 0.28604347],\n",
       "       [0.9777272 , 0.0222728 ],\n",
       "       [0.9464598 , 0.0535402 ],\n",
       "       [0.88617628, 0.11382372],\n",
       "       [0.79620168, 0.20379832],\n",
       "       [0.61863803, 0.38136197],\n",
       "       [0.81866472, 0.18133528],\n",
       "       [0.74504112, 0.25495888],\n",
       "       [0.86779496, 0.13220504],\n",
       "       [0.87071141, 0.12928859],\n",
       "       [0.81717462, 0.18282538],\n",
       "       [0.71840767, 0.28159233],\n",
       "       [0.59825856, 0.40174144],\n",
       "       [0.83951557, 0.16048443],\n",
       "       [0.88351328, 0.11648672],\n",
       "       [0.74352555, 0.25647445],\n",
       "       [0.76631623, 0.23368377],\n",
       "       [0.9803304 , 0.0196696 ],\n",
       "       [0.91857472, 0.08142528],\n",
       "       [0.77432839, 0.22567161],\n",
       "       [0.92514822, 0.07485178],\n",
       "       [0.88123384, 0.11876616],\n",
       "       [0.74587155, 0.25412845],\n",
       "       [0.90478364, 0.09521636],\n",
       "       [0.78685504, 0.21314496],\n",
       "       [0.81147771, 0.18852229],\n",
       "       [0.93472173, 0.06527827],\n",
       "       [0.93836508, 0.06163492],\n",
       "       [0.79411743, 0.20588257],\n",
       "       [0.81372897, 0.18627103],\n",
       "       [0.91610922, 0.08389078],\n",
       "       [0.9042835 , 0.0957165 ],\n",
       "       [0.84669417, 0.15330583],\n",
       "       [0.95384559, 0.04615441],\n",
       "       [0.91283694, 0.08716306],\n",
       "       [0.8591961 , 0.1408039 ],\n",
       "       [0.85902494, 0.14097506],\n",
       "       [0.87519516, 0.12480484],\n",
       "       [0.76114661, 0.23885339],\n",
       "       [0.9221769 , 0.0778231 ],\n",
       "       [0.96859413, 0.03140587],\n",
       "       [0.94398228, 0.05601772],\n",
       "       [0.81780284, 0.18219716],\n",
       "       [0.88058707, 0.11941293],\n",
       "       [0.7789429 , 0.2210571 ],\n",
       "       [0.97124469, 0.02875531],\n",
       "       [0.88807663, 0.11192337],\n",
       "       [0.78715264, 0.21284736],\n",
       "       [0.82001477, 0.17998523],\n",
       "       [0.94934549, 0.05065451],\n",
       "       [0.95888938, 0.04111062],\n",
       "       [0.735592  , 0.264408  ],\n",
       "       [0.93417004, 0.06582996],\n",
       "       [0.73750612, 0.26249388],\n",
       "       [0.82136739, 0.17863261],\n",
       "       [0.82171201, 0.17828799],\n",
       "       [0.89896706, 0.10103294],\n",
       "       [0.78745768, 0.21254232],\n",
       "       [0.89825354, 0.10174646],\n",
       "       [0.91433824, 0.08566176],\n",
       "       [0.92724745, 0.07275255],\n",
       "       [0.9659497 , 0.0340503 ],\n",
       "       [0.94417374, 0.05582626],\n",
       "       [0.93073085, 0.06926915],\n",
       "       [0.6632056 , 0.3367944 ],\n",
       "       [0.84168646, 0.15831354],\n",
       "       [0.82636812, 0.17363188],\n",
       "       [0.80616634, 0.19383366],\n",
       "       [0.96157637, 0.03842363],\n",
       "       [0.93515162, 0.06484838],\n",
       "       [0.94778633, 0.05221367],\n",
       "       [0.9733783 , 0.0266217 ],\n",
       "       [0.79297041, 0.20702959],\n",
       "       [0.87770199, 0.12229801],\n",
       "       [0.86103661, 0.13896339],\n",
       "       [0.95185482, 0.04814518],\n",
       "       [0.93131494, 0.06868506],\n",
       "       [0.75685347, 0.24314653],\n",
       "       [0.74997788, 0.25002212],\n",
       "       [0.9552787 , 0.0447213 ],\n",
       "       [0.86950728, 0.13049272],\n",
       "       [0.81376764, 0.18623236],\n",
       "       [0.76990615, 0.23009385],\n",
       "       [0.80077901, 0.19922099],\n",
       "       [0.92801126, 0.07198874],\n",
       "       [0.9094925 , 0.0905075 ],\n",
       "       [0.94557633, 0.05442367],\n",
       "       [0.93330473, 0.06669527],\n",
       "       [0.69145879, 0.30854121],\n",
       "       [0.93056891, 0.06943109],\n",
       "       [0.74525405, 0.25474595],\n",
       "       [0.78594333, 0.21405667],\n",
       "       [0.93308605, 0.06691395],\n",
       "       [0.80878293, 0.19121707],\n",
       "       [0.85096458, 0.14903542],\n",
       "       [0.6695626 , 0.3304374 ],\n",
       "       [0.90338381, 0.09661619],\n",
       "       [0.91158938, 0.08841062],\n",
       "       [0.87300498, 0.12699502],\n",
       "       [0.9293906 , 0.0706094 ],\n",
       "       [0.66661693, 0.33338307],\n",
       "       [0.89098517, 0.10901483],\n",
       "       [0.86216701, 0.13783299],\n",
       "       [0.78838555, 0.21161445],\n",
       "       [0.53099562, 0.46900438],\n",
       "       [0.73344314, 0.26655686],\n",
       "       [0.71053974, 0.28946026],\n",
       "       [0.85530498, 0.14469502],\n",
       "       [0.86960592, 0.13039408],\n",
       "       [0.75470002, 0.24529998],\n",
       "       [0.89823517, 0.10176483],\n",
       "       [0.79247831, 0.20752169],\n",
       "       [0.90643153, 0.09356847],\n",
       "       [0.77650776, 0.22349224],\n",
       "       [0.88387789, 0.11612211],\n",
       "       [0.85404308, 0.14595692],\n",
       "       [0.81899347, 0.18100653],\n",
       "       [0.74448497, 0.25551503],\n",
       "       [0.86259431, 0.13740569],\n",
       "       [0.77822621, 0.22177379],\n",
       "       [0.76928317, 0.23071683],\n",
       "       [0.79679221, 0.20320779],\n",
       "       [0.92096592, 0.07903408],\n",
       "       [0.74573757, 0.25426243],\n",
       "       [0.87499232, 0.12500768],\n",
       "       [0.85503291, 0.14496709],\n",
       "       [0.77292138, 0.22707862],\n",
       "       [0.87227271, 0.12772729],\n",
       "       [0.6739533 , 0.3260467 ],\n",
       "       [0.93621669, 0.06378331],\n",
       "       [0.82479478, 0.17520522],\n",
       "       [0.9514605 , 0.0485395 ],\n",
       "       [0.83462447, 0.16537553],\n",
       "       [0.81106486, 0.18893514],\n",
       "       [0.80828249, 0.19171751],\n",
       "       [0.87664158, 0.12335842],\n",
       "       [0.66786982, 0.33213018],\n",
       "       [0.59616837, 0.40383163],\n",
       "       [0.98979368, 0.01020632],\n",
       "       [0.70634385, 0.29365615],\n",
       "       [0.916331  , 0.083669  ],\n",
       "       [0.92133479, 0.07866521],\n",
       "       [0.71383905, 0.28616095],\n",
       "       [0.6245391 , 0.3754609 ],\n",
       "       [0.76440572, 0.23559428],\n",
       "       [0.95401659, 0.04598341],\n",
       "       [0.88186725, 0.11813275],\n",
       "       [0.86019904, 0.13980096],\n",
       "       [0.92117383, 0.07882617],\n",
       "       [0.8801917 , 0.1198083 ],\n",
       "       [0.80451416, 0.19548584],\n",
       "       [0.80585178, 0.19414822],\n",
       "       [0.91345499, 0.08654501],\n",
       "       [0.72101804, 0.27898196],\n",
       "       [0.94508009, 0.05491991],\n",
       "       [0.90906914, 0.09093086],\n",
       "       [0.73381738, 0.26618262],\n",
       "       [0.98109187, 0.01890813],\n",
       "       [0.85490445, 0.14509555],\n",
       "       [0.89817076, 0.10182924],\n",
       "       [0.82436991, 0.17563009],\n",
       "       [0.833871  , 0.166129  ],\n",
       "       [0.88136654, 0.11863346],\n",
       "       [0.88031305, 0.11968695],\n",
       "       [0.87560621, 0.12439379],\n",
       "       [0.81617202, 0.18382798],\n",
       "       [0.8802885 , 0.1197115 ],\n",
       "       [0.6153081 , 0.3846919 ],\n",
       "       [0.88826164, 0.11173836],\n",
       "       [0.8969282 , 0.1030718 ],\n",
       "       [0.85328926, 0.14671074],\n",
       "       [0.98297045, 0.01702955],\n",
       "       [0.7734123 , 0.2265877 ],\n",
       "       [0.62184861, 0.37815139],\n",
       "       [0.82739134, 0.17260866],\n",
       "       [0.84083336, 0.15916664],\n",
       "       [0.84808598, 0.15191402],\n",
       "       [0.84937032, 0.15062968],\n",
       "       [0.75540964, 0.24459036],\n",
       "       [0.86188855, 0.13811145],\n",
       "       [0.90684694, 0.09315306],\n",
       "       [0.84663266, 0.15336734],\n",
       "       [0.81290896, 0.18709104],\n",
       "       [0.74053554, 0.25946446],\n",
       "       [0.87035278, 0.12964722],\n",
       "       [0.83938085, 0.16061915],\n",
       "       [0.86267945, 0.13732055],\n",
       "       [0.66362871, 0.33637129],\n",
       "       [0.90671716, 0.09328284],\n",
       "       [0.87056308, 0.12943692],\n",
       "       [0.92580796, 0.07419204],\n",
       "       [0.84386841, 0.15613159],\n",
       "       [0.89878139, 0.10121861],\n",
       "       [0.91239502, 0.08760498],\n",
       "       [0.79867624, 0.20132376],\n",
       "       [0.64052591, 0.35947409],\n",
       "       [0.84683939, 0.15316061],\n",
       "       [0.75503182, 0.24496818],\n",
       "       [0.85264539, 0.14735461],\n",
       "       [0.99251435, 0.00748565],\n",
       "       [0.86138222, 0.13861778],\n",
       "       [0.88140146, 0.11859854],\n",
       "       [0.82757083, 0.17242917],\n",
       "       [0.9302708 , 0.0697292 ],\n",
       "       [0.87307439, 0.12692561],\n",
       "       [0.88802401, 0.11197599],\n",
       "       [0.83753306, 0.16246694],\n",
       "       [0.86481028, 0.13518972],\n",
       "       [0.86515554, 0.13484446],\n",
       "       [0.89754795, 0.10245205],\n",
       "       [0.78409091, 0.21590909],\n",
       "       [0.79165108, 0.20834892],\n",
       "       [0.88388118, 0.11611882],\n",
       "       [0.65418933, 0.34581067],\n",
       "       [0.94059386, 0.05940614],\n",
       "       [0.89913439, 0.10086561],\n",
       "       [0.72525597, 0.27474403],\n",
       "       [0.6908549 , 0.3091451 ],\n",
       "       [0.87591632, 0.12408368],\n",
       "       [0.86562253, 0.13437747],\n",
       "       [0.97508881, 0.02491119],\n",
       "       [0.86265132, 0.13734868],\n",
       "       [0.54036034, 0.45963966],\n",
       "       [0.91302285, 0.08697715],\n",
       "       [0.74609569, 0.25390431],\n",
       "       [0.86758146, 0.13241854],\n",
       "       [0.88852754, 0.11147246],\n",
       "       [0.87911718, 0.12088282],\n",
       "       [0.8566496 , 0.1433504 ],\n",
       "       [0.77281951, 0.22718049],\n",
       "       [0.8071399 , 0.1928601 ],\n",
       "       [0.85285504, 0.14714496],\n",
       "       [0.77595546, 0.22404454],\n",
       "       [0.70409851, 0.29590149],\n",
       "       [0.88971655, 0.11028345],\n",
       "       [0.48963034, 0.51036966],\n",
       "       [0.92370657, 0.07629343],\n",
       "       [0.75572304, 0.24427696],\n",
       "       [0.67788824, 0.32211176],\n",
       "       [0.91301005, 0.08698995],\n",
       "       [0.94029216, 0.05970784],\n",
       "       [0.88009795, 0.11990205],\n",
       "       [0.88591176, 0.11408824],\n",
       "       [0.95656834, 0.04343166],\n",
       "       [0.89909428, 0.10090572],\n",
       "       [0.94784652, 0.05215348],\n",
       "       [0.83255766, 0.16744234],\n",
       "       [0.87822144, 0.12177856],\n",
       "       [0.81945792, 0.18054208],\n",
       "       [0.8166878 , 0.1833122 ],\n",
       "       [0.95036177, 0.04963823],\n",
       "       [0.86940139, 0.13059861],\n",
       "       [0.90541605, 0.09458395],\n",
       "       [0.83661192, 0.16338808],\n",
       "       [0.84583641, 0.15416359],\n",
       "       [0.79307973, 0.20692027],\n",
       "       [0.81808121, 0.18191879],\n",
       "       [0.81598402, 0.18401598],\n",
       "       [0.83677548, 0.16322452],\n",
       "       [0.91443037, 0.08556963],\n",
       "       [0.91533089, 0.08466911],\n",
       "       [0.68503431, 0.31496569],\n",
       "       [0.99073761, 0.00926239],\n",
       "       [0.76794996, 0.23205004],\n",
       "       [0.79871915, 0.20128085],\n",
       "       [0.73176826, 0.26823174],\n",
       "       [0.67465163, 0.32534837],\n",
       "       [0.79712447, 0.20287553],\n",
       "       [0.84935617, 0.15064383],\n",
       "       [0.86467082, 0.13532918],\n",
       "       [0.85844155, 0.14155845],\n",
       "       [0.84533267, 0.15466733],\n",
       "       [0.83038806, 0.16961194],\n",
       "       [0.9219276 , 0.0780724 ],\n",
       "       [0.83189719, 0.16810281],\n",
       "       [0.97707556, 0.02292444],\n",
       "       [0.90418243, 0.09581757],\n",
       "       [0.92691206, 0.07308794],\n",
       "       [0.84797352, 0.15202648],\n",
       "       [0.76712566, 0.23287434],\n",
       "       [0.94895162, 0.05104838],\n",
       "       [0.94782093, 0.05217907],\n",
       "       [0.7518149 , 0.2481851 ],\n",
       "       [0.87880469, 0.12119531],\n",
       "       [0.80770787, 0.19229213],\n",
       "       [0.93864306, 0.06135694],\n",
       "       [0.86008489, 0.13991511],\n",
       "       [0.76056673, 0.23943327],\n",
       "       [0.9089248 , 0.0910752 ],\n",
       "       [0.7540214 , 0.2459786 ],\n",
       "       [0.94271847, 0.05728153],\n",
       "       [0.91827322, 0.08172678],\n",
       "       [0.90545129, 0.09454871],\n",
       "       [0.76879446, 0.23120554],\n",
       "       [0.92358144, 0.07641856],\n",
       "       [0.80705871, 0.19294129],\n",
       "       [0.90079531, 0.09920469],\n",
       "       [0.87933338, 0.12066662],\n",
       "       [0.80585678, 0.19414322],\n",
       "       [0.83150045, 0.16849955],\n",
       "       [0.53816741, 0.46183259],\n",
       "       [0.95031829, 0.04968171],\n",
       "       [0.73291884, 0.26708116],\n",
       "       [0.89182869, 0.10817131],\n",
       "       [0.80079851, 0.19920149],\n",
       "       [0.87739808, 0.12260192],\n",
       "       [0.96805235, 0.03194765],\n",
       "       [0.81741598, 0.18258402],\n",
       "       [0.86150096, 0.13849904],\n",
       "       [0.5940753 , 0.4059247 ],\n",
       "       [0.82625736, 0.17374264],\n",
       "       [0.92534984, 0.07465016],\n",
       "       [0.81692202, 0.18307798],\n",
       "       [0.92586787, 0.07413213],\n",
       "       [0.89094613, 0.10905387],\n",
       "       [0.70071733, 0.29928267],\n",
       "       [0.82181894, 0.17818106],\n",
       "       [0.96589946, 0.03410054],\n",
       "       [0.86996989, 0.13003011],\n",
       "       [0.89918555, 0.10081445],\n",
       "       [0.88983799, 0.11016201],\n",
       "       [0.81432457, 0.18567543],\n",
       "       [0.85830045, 0.14169955],\n",
       "       [0.83878659, 0.16121341],\n",
       "       [0.84056579, 0.15943421],\n",
       "       [0.82661176, 0.17338824],\n",
       "       [0.94075175, 0.05924825],\n",
       "       [0.83183534, 0.16816466],\n",
       "       [0.77561349, 0.22438651],\n",
       "       [0.69399526, 0.30600474],\n",
       "       [0.85962128, 0.14037872],\n",
       "       [0.82513944, 0.17486056],\n",
       "       [0.84107712, 0.15892288],\n",
       "       [0.87191018, 0.12808982],\n",
       "       [0.89447658, 0.10552342],\n",
       "       [0.8294534 , 0.1705466 ],\n",
       "       [0.7285677 , 0.2714323 ],\n",
       "       [0.94692824, 0.05307176],\n",
       "       [0.96074301, 0.03925699],\n",
       "       [0.90500198, 0.09499802],\n",
       "       [0.88599994, 0.11400006],\n",
       "       [0.84865644, 0.15134356],\n",
       "       [0.79086964, 0.20913036],\n",
       "       [0.67302948, 0.32697052],\n",
       "       [0.93390213, 0.06609787],\n",
       "       [0.65644866, 0.34355134],\n",
       "       [0.74382839, 0.25617161],\n",
       "       [0.94248421, 0.05751579],\n",
       "       [0.78365683, 0.21634317],\n",
       "       [0.90655682, 0.09344318],\n",
       "       [0.81578729, 0.18421271],\n",
       "       [0.89149738, 0.10850262],\n",
       "       [0.85791874, 0.14208126],\n",
       "       [0.67453842, 0.32546158],\n",
       "       [0.93130402, 0.06869598],\n",
       "       [0.89999988, 0.10000012]])"
      ]
     },
     "execution_count": 93,
     "metadata": {},
     "output_type": "execute_result"
    }
   ],
   "source": [
    "probs = model2.predict_proba(X_test)\n",
    "probs"
   ]
  },
  {
   "cell_type": "code",
   "execution_count": 95,
   "id": "2b659555",
   "metadata": {},
   "outputs": [
    {
     "name": "stdout",
     "output_type": "stream",
     "text": [
      "0.8435374149659864\n",
      "0.6502502887947632\n"
     ]
    }
   ],
   "source": [
    "from sklearn import metrics\n",
    "\n",
    "print(metrics.accuracy_score(y_test,predicted))\n",
    "print(metrics.roc_auc_score(y_test,probs[:,1]))"
   ]
  },
  {
   "cell_type": "code",
   "execution_count": 97,
   "id": "201980e8",
   "metadata": {},
   "outputs": [
    {
     "name": "stdout",
     "output_type": "stream",
     "text": [
      "[[371   0]\n",
      " [ 69   1]]\n"
     ]
    }
   ],
   "source": [
    "print(metrics.confusion_matrix(y_test,predicted))"
   ]
  },
  {
   "cell_type": "code",
   "execution_count": 98,
   "id": "058134c2",
   "metadata": {},
   "outputs": [
    {
     "name": "stdout",
     "output_type": "stream",
     "text": [
      "              precision    recall  f1-score   support\n",
      "\n",
      "         0.0       0.84      1.00      0.91       371\n",
      "         1.0       1.00      0.01      0.03        70\n",
      "\n",
      "    accuracy                           0.84       441\n",
      "   macro avg       0.92      0.51      0.47       441\n",
      "weighted avg       0.87      0.84      0.77       441\n",
      "\n"
     ]
    }
   ],
   "source": [
    "print(metrics.classification_report(y_test,predicted))"
   ]
  },
  {
   "cell_type": "code",
   "execution_count": 99,
   "id": "d255f126",
   "metadata": {},
   "outputs": [
    {
     "name": "stdout",
     "output_type": "stream",
     "text": [
      "[[6.25571974e-07 9.99999374e-01]]\n"
     ]
    },
    {
     "name": "stderr",
     "output_type": "stream",
     "text": [
      "/Users/Rochelle_1/opt/anaconda3/envs/tf/lib/python3.7/site-packages/sklearn/base.py:451: UserWarning: X does not have valid feature names, but LogisticRegression was fitted with feature names\n",
      "  \"X does not have valid feature names, but\"\n"
     ]
    }
   ],
   "source": [
    "#add random values to KK according to the parameters mentioned above to check the proabily of attrition of the employee\n",
    "kk=[[1.0, 23.0, 1.0, 500.0, 3.0, 24.0, 1.0]]\n",
    "print(model.predict_proba(kk))"
   ]
  },
  {
   "cell_type": "code",
   "execution_count": null,
   "id": "b6787057",
   "metadata": {},
   "outputs": [],
   "source": []
  }
 ],
 "metadata": {
  "kernelspec": {
   "display_name": "Python 3.9 (tensorflow)",
   "language": "python",
   "name": "tensorflow"
  },
  "language_info": {
   "codemirror_mode": {
    "name": "ipython",
    "version": 3
   },
   "file_extension": ".py",
   "mimetype": "text/x-python",
   "name": "python",
   "nbconvert_exporter": "python",
   "pygments_lexer": "ipython3",
   "version": "3.7.13"
  },
  "varInspector": {
   "cols": {
    "lenName": 16,
    "lenType": 16,
    "lenVar": 40
   },
   "kernels_config": {
    "python": {
     "delete_cmd_postfix": "",
     "delete_cmd_prefix": "del ",
     "library": "var_list.py",
     "varRefreshCmd": "print(var_dic_list())"
    },
    "r": {
     "delete_cmd_postfix": ") ",
     "delete_cmd_prefix": "rm(",
     "library": "var_list.r",
     "varRefreshCmd": "cat(var_dic_list()) "
    }
   },
   "types_to_exclude": [
    "module",
    "function",
    "builtin_function_or_method",
    "instance",
    "_Feature"
   ],
   "window_display": false
  }
 },
 "nbformat": 4,
 "nbformat_minor": 5
}
