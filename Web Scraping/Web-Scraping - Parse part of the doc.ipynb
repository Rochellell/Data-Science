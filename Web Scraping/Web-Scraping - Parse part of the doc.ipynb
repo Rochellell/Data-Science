{
 "cells": [
  {
   "cell_type": "code",
   "execution_count": 8,
   "id": "b9432df2",
   "metadata": {},
   "outputs": [],
   "source": [
    "#import the required library\n",
    "from bs4 import BeautifulSoup"
   ]
  },
  {
   "cell_type": "code",
   "execution_count": 9,
   "id": "43dcebae",
   "metadata": {},
   "outputs": [],
   "source": [
    "#sample web document from the website\n",
    "data_SL = \"\"\"</div>\n",
    "</a>\n",
    "</div>\n",
    "</div>\n",
    "<div class=\"get-updates\">\n",
    "<div style=\"text-align: center;\">\n",
    "<div id=\"cbox-HN4dMaMlMIybD8yL\"></div>\n",
    "</div>\n",
    "</div>\n",
    "<div class=\"join-cta\">\n",
    "<h2>Join 2,000,000 breath-taking readers:</h2>\n",
    "<ul>\n",
    "<li><a href=\"https://twitter.com/zen_habits\" target=\"_blank\">Twitter</a></li>\n",
    "<li><a href=\"https://www.facebook.com/groups/OfficialZenHabits/\" target=\"_blank\">Facebook</a></li>\n",
    "</ul>\n",
    "</div>\n",
    "<nav class=\"footer-menu\">\n",
    "<div class=\"menu-footer-menu-container\"><ul id=\"menu-footer-menu\" class=\"menu\"><li id=\"menu-item-20521\" class=\"menu-item menu-item-type-post_type menu-item-object-page menu-item-20521\"><a href=\"https://zenhabits.net/uncopyright/\">Uncopyright</a></li>\n",
    "</ul></div> </nav>\n",
    "</div>\"\"\""
   ]
  },
  {
   "cell_type": "code",
   "execution_count": 10,
   "id": "bc334850",
   "metadata": {},
   "outputs": [],
   "source": [
    "#create soup object\n",
    "soup_SL = BeautifulSoup(data_SL,\"html.parser\")"
   ]
  },
  {
   "cell_type": "code",
   "execution_count": 11,
   "id": "088b9a07",
   "metadata": {},
   "outputs": [
    {
     "name": "stdout",
     "output_type": "stream",
     "text": [
      "\n",
      "\n",
      "\n",
      "\n",
      "\n",
      "\n",
      "\n",
      "\n",
      "\n",
      "\n",
      "Join 2,000,000 breath-taking readers:\n",
      "\n",
      "Twitter\n",
      "Facebook\n",
      "\n",
      "\n",
      "\n",
      "Uncopyright\n",
      " \n",
      "\n"
     ]
    }
   ],
   "source": [
    "#parse only part of the doc, text(string) values for tags using get Text method\n",
    "print(soup_SL.get_text())"
   ]
  },
  {
   "cell_type": "code",
   "execution_count": 12,
   "id": "a1e07134",
   "metadata": {},
   "outputs": [],
   "source": [
    "#import SoupStrainer class for parsing the desired part\n",
    "from bs4 import SoupStrainer"
   ]
  },
  {
   "cell_type": "code",
   "execution_count": 14,
   "id": "a0ca2981",
   "metadata": {},
   "outputs": [],
   "source": [
    "#create object to parse only the id(link) with lab\n",
    "tags = SoupStrainer(id=\"cbox-HN4dMaMlMIybD8yL\")"
   ]
  },
  {
   "cell_type": "code",
   "execution_count": 16,
   "id": "7512b44e",
   "metadata": {},
   "outputs": [
    {
     "name": "stdout",
     "output_type": "stream",
     "text": [
      "<div id=\"cbox-HN4dMaMlMIybD8yL\">\n",
      "</div>\n"
     ]
    }
   ],
   "source": [
    "#print the part of the parsed doc\n",
    "print(BeautifulSoup(data_SL,'html.parser',parse_only = tags).prettify())"
   ]
  },
  {
   "cell_type": "code",
   "execution_count": null,
   "id": "013e826d",
   "metadata": {},
   "outputs": [],
   "source": []
  }
 ],
 "metadata": {
  "kernelspec": {
   "display_name": "Python 3 (ipykernel)",
   "language": "python",
   "name": "python3"
  },
  "language_info": {
   "codemirror_mode": {
    "name": "ipython",
    "version": 3
   },
   "file_extension": ".py",
   "mimetype": "text/x-python",
   "name": "python",
   "nbconvert_exporter": "python",
   "pygments_lexer": "ipython3",
   "version": "3.9.7"
  },
  "varInspector": {
   "cols": {
    "lenName": 16,
    "lenType": 16,
    "lenVar": 40
   },
   "kernels_config": {
    "python": {
     "delete_cmd_postfix": "",
     "delete_cmd_prefix": "del ",
     "library": "var_list.py",
     "varRefreshCmd": "print(var_dic_list())"
    },
    "r": {
     "delete_cmd_postfix": ") ",
     "delete_cmd_prefix": "rm(",
     "library": "var_list.r",
     "varRefreshCmd": "cat(var_dic_list()) "
    }
   },
   "types_to_exclude": [
    "module",
    "function",
    "builtin_function_or_method",
    "instance",
    "_Feature"
   ],
   "window_display": false
  }
 },
 "nbformat": 4,
 "nbformat_minor": 5
}
