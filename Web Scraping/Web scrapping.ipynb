{
 "cells": [
  {
   "cell_type": "code",
   "execution_count": 42,
   "id": "68505483",
   "metadata": {},
   "outputs": [],
   "source": [
    "#import the library\n",
    "from bs4 import BeautifulSoup"
   ]
  },
  {
   "cell_type": "code",
   "execution_count": 43,
   "id": "5ef0eb4b",
   "metadata": {},
   "outputs": [],
   "source": [
    "#import the file\n",
    "HTML = \"web_scraping_example.html\"\n",
    "with open(HTML,\"r\") as organization:\n",
    "    soup = BeautifulSoup(organization,\"lxml\")"
   ]
  },
  {
   "cell_type": "code",
   "execution_count": 44,
   "id": "601a75f9",
   "metadata": {},
   "outputs": [
    {
     "data": {
      "text/plain": [
       "[<html>\n",
       " <body>\n",
       " <div class=\"oraganization\">\n",
       " <ul id=\"HR\">\n",
       " <li class=\"HRmanager\">\n",
       " <div class=\"name\">Jack</div>\n",
       " <div class=\"ID\">101</div>\n",
       " </li>\n",
       " <li class=\"HRmanager\">\n",
       " <div class=\"name\">Daren</div>\n",
       " <div class=\"ID\">65</div>\n",
       " </li>\n",
       " </ul>\n",
       " <ul id=\"IT\">\n",
       " <li class=\"ITmanager\">\n",
       " <div class=\"name\">Morris</div>\n",
       " <div class=\"ID\">39</div>\n",
       " </li>\n",
       " <li class=\"ITmanager\">\n",
       " <div class=\"name\">Jane</div>\n",
       " <div class=\"ID\">11</div>\n",
       " </li>\n",
       " </ul>\n",
       " <ul id=\"Finance\">\n",
       " <li class=\"accountmanager\">\n",
       " <div class=\"name\">Tom</div>\n",
       " <div class=\"ID\">22</div>\n",
       " </li>\n",
       " <li class=\"accountmanager\">\n",
       " <div class=\"name\">Kelly</div>\n",
       " <div class=\"ID\">95</div>\n",
       " </li>\n",
       " </ul>\n",
       " </div>\n",
       " </body>\n",
       " </html>]"
      ]
     },
     "execution_count": 44,
     "metadata": {},
     "output_type": "execute_result"
    }
   ],
   "source": [
    "#view the content\n",
    "soup.contents"
   ]
  },
  {
   "cell_type": "code",
   "execution_count": 45,
   "id": "5053b9eb",
   "metadata": {},
   "outputs": [],
   "source": [
    "#search using find methods\n",
    "tag_li = soup.find(\"li\")"
   ]
  },
  {
   "cell_type": "code",
   "execution_count": 46,
   "id": "56be80e8",
   "metadata": {},
   "outputs": [
    {
     "name": "stdout",
     "output_type": "stream",
     "text": [
      "<class 'bs4.element.Tag'>\n"
     ]
    }
   ],
   "source": [
    "#print the tag type\n",
    "print(type(tag_li))"
   ]
  },
  {
   "cell_type": "code",
   "execution_count": 47,
   "id": "51fd5e68",
   "metadata": {},
   "outputs": [
    {
     "name": "stdout",
     "output_type": "stream",
     "text": [
      "<li class=\"HRmanager\">\n",
      "<div class=\"name\">Jack</div>\n",
      "<div class=\"ID\">101</div>\n",
      "</li>\n"
     ]
    }
   ],
   "source": [
    "#print the tag\n",
    "print(tag_li)"
   ]
  },
  {
   "cell_type": "code",
   "execution_count": 48,
   "id": "27619f58",
   "metadata": {},
   "outputs": [],
   "source": [
    "#search the document using find method for an ID\n",
    "find_id = soup.find(id=\"HR\")"
   ]
  },
  {
   "cell_type": "code",
   "execution_count": 49,
   "id": "162c5928",
   "metadata": {},
   "outputs": [
    {
     "name": "stdout",
     "output_type": "stream",
     "text": [
      "<ul id=\"HR\">\n",
      "<li class=\"HRmanager\">\n",
      "<div class=\"name\">Jack</div>\n",
      "<div class=\"ID\">101</div>\n",
      "</li>\n",
      "<li class=\"HRmanager\">\n",
      "<div class=\"name\">Daren</div>\n",
      "<div class=\"ID\">65</div>\n",
      "</li>\n",
      "</ul>\n"
     ]
    }
   ],
   "source": [
    "#print the find_id object\n",
    "print(find_id)"
   ]
  },
  {
   "cell_type": "code",
   "execution_count": 50,
   "id": "76568fb5",
   "metadata": {},
   "outputs": [
    {
     "name": "stdout",
     "output_type": "stream",
     "text": [
      "Jack\n"
     ]
    }
   ],
   "source": [
    "#print the string value\n",
    "print(find_id.li.div.string)"
   ]
  },
  {
   "cell_type": "code",
   "execution_count": 51,
   "id": "c12d8afa",
   "metadata": {},
   "outputs": [],
   "source": [
    "#search using string only\n",
    "search_for_stringonly = soup.findAll(text=[\"Kelly\",\"Jack\"])"
   ]
  },
  {
   "cell_type": "code",
   "execution_count": 52,
   "id": "1fbe15aa",
   "metadata": {},
   "outputs": [
    {
     "name": "stdout",
     "output_type": "stream",
     "text": [
      "['Jack', 'Kelly']\n"
     ]
    }
   ],
   "source": [
    "#print the search values \n",
    "print(search_for_stringonly)"
   ]
  },
  {
   "cell_type": "code",
   "execution_count": 53,
   "id": "9ef9c56f",
   "metadata": {},
   "outputs": [
    {
     "name": "stdout",
     "output_type": "stream",
     "text": [
      "<li class=\"ITmanager\">\n",
      "<div class=\"name\">Morris</div>\n",
      "<div class=\"ID\">39</div>\n",
      "</li>\n"
     ]
    }
   ],
   "source": [
    "#search based on css class name(present as an attribute)\n",
    "css_class = soup.find(attrs={\"class\": \"ITmanager\"})\n",
    "print(css_class)"
   ]
  },
  {
   "cell_type": "code",
   "execution_count": 54,
   "id": "d5fe4834",
   "metadata": {},
   "outputs": [],
   "source": [
    "#create a function to search the document based upon the tag passed as parameter\n",
    "def is_account_manager(tag):\n",
    "    return tag.has_attr(\"id\") and tag.get(\"id\") == \"Finance\""
   ]
  },
  {
   "cell_type": "code",
   "execution_count": 55,
   "id": "6d6f2c6f",
   "metadata": {},
   "outputs": [
    {
     "name": "stdout",
     "output_type": "stream",
     "text": [
      "Tom\n"
     ]
    }
   ],
   "source": [
    "#search the document using function and print it\n",
    "account_manager = soup.find(is_account_manager)\n",
    "print(account_manager.li.div.string)"
   ]
  },
  {
   "cell_type": "code",
   "execution_count": 56,
   "id": "47e8f4e1",
   "metadata": {},
   "outputs": [
    {
     "name": "stdout",
     "output_type": "stream",
     "text": [
      "html\n",
      "body\n",
      "div\n",
      "ul\n",
      "li\n",
      "div\n",
      "div\n",
      "li\n",
      "div\n",
      "div\n",
      "ul\n",
      "li\n",
      "div\n",
      "div\n",
      "li\n",
      "div\n",
      "div\n",
      "ul\n",
      "li\n",
      "div\n",
      "div\n",
      "li\n",
      "div\n",
      "div\n"
     ]
    }
   ],
   "source": [
    "#print tag name using True - which returns all the tags present in the document\n",
    "for tag in soup.findAll(True):\n",
    "    print(tag.name)"
   ]
  },
  {
   "cell_type": "code",
   "execution_count": 57,
   "id": "6b0286e5",
   "metadata": {},
   "outputs": [],
   "source": [
    "#search using findall methos for the given class\n",
    "find_class = soup.findAll(class_ = \"HRmanager\")"
   ]
  },
  {
   "cell_type": "code",
   "execution_count": 58,
   "id": "286e4f00",
   "metadata": {},
   "outputs": [
    {
     "name": "stdout",
     "output_type": "stream",
     "text": [
      "<li class=\"HRmanager\">\n",
      "<div class=\"name\">Jack</div>\n",
      "<div class=\"ID\">101</div>\n",
      "</li>\n"
     ]
    }
   ],
   "source": [
    "#print the first resultset\n",
    "print(find_class[0])"
   ]
  },
  {
   "cell_type": "code",
   "execution_count": 59,
   "id": "fbe5172b",
   "metadata": {},
   "outputs": [
    {
     "name": "stdout",
     "output_type": "stream",
     "text": [
      "<li class=\"HRmanager\">\n",
      "<div class=\"name\">Daren</div>\n",
      "<div class=\"ID\">65</div>\n",
      "</li>\n"
     ]
    }
   ],
   "source": [
    "#print the second resultset\n",
    "print(find_class[1])"
   ]
  },
  {
   "cell_type": "code",
   "execution_count": 60,
   "id": "c1cb3557",
   "metadata": {},
   "outputs": [
    {
     "name": "stdout",
     "output_type": "stream",
     "text": [
      "[<ul id=\"HR\">\n",
      "<li class=\"HRmanager\">\n",
      "<div class=\"name\">Jack</div>\n",
      "<div class=\"ID\">101</div>\n",
      "</li>\n",
      "<li class=\"HRmanager\">\n",
      "<div class=\"name\">Daren</div>\n",
      "<div class=\"ID\">65</div>\n",
      "</li>\n",
      "</ul>]\n"
     ]
    }
   ],
   "source": [
    "#find parents using find  parent method\n",
    "find_class = find_class[0]\n",
    "find_parent = find_class.find_parents(\"ul\")\n",
    "print(find_parent)"
   ]
  },
  {
   "cell_type": "code",
   "execution_count": 70,
   "id": "d18fbf50",
   "metadata": {},
   "outputs": [
    {
     "name": "stdout",
     "output_type": "stream",
     "text": [
      "<ul id=\"IT\">\n",
      "<li class=\"ITmanager\">\n",
      "<div class=\"name\">Morris</div>\n",
      "<div class=\"ID\">39</div>\n",
      "</li>\n",
      "<li class=\"ITmanager\">\n",
      "<div class=\"name\">Jane</div>\n",
      "<div class=\"ID\">11</div>\n",
      "</li>\n",
      "</ul>\n"
     ]
    }
   ],
   "source": [
    "#use find method to search based on the id\n",
    "org = soup.find(id=\"IT\")\n",
    "print(org)"
   ]
  },
  {
   "cell_type": "code",
   "execution_count": 71,
   "id": "3cc95c42",
   "metadata": {},
   "outputs": [],
   "source": [
    "#find the next siblings\n",
    "next_sibling = org.findNextSiblings()"
   ]
  },
  {
   "cell_type": "code",
   "execution_count": 72,
   "id": "323cdac9",
   "metadata": {},
   "outputs": [
    {
     "name": "stdout",
     "output_type": "stream",
     "text": [
      "<bound method PageElement.find_parents of <ul id=\"IT\">\n",
      "<li class=\"ITmanager\">\n",
      "<div class=\"name\">Morris</div>\n",
      "<div class=\"ID\">39</div>\n",
      "</li>\n",
      "<li class=\"ITmanager\">\n",
      "<div class=\"name\">Jane</div>\n",
      "<div class=\"ID\">11</div>\n",
      "</li>\n",
      "</ul>>\n"
     ]
    }
   ],
   "source": [
    "#print parents\n",
    "parent =org.findParents\n",
    "print(parent)"
   ]
  },
  {
   "cell_type": "code",
   "execution_count": 75,
   "id": "67c5c4ad",
   "metadata": {},
   "outputs": [
    {
     "name": "stdout",
     "output_type": "stream",
     "text": [
      "[<div class=\"ID\">65</div>, <div class=\"name\">Daren</div>, <li class=\"HRmanager\">\n",
      "<div class=\"name\">Daren</div>\n",
      "<div class=\"ID\">65</div>\n",
      "</li>, <div class=\"ID\">101</div>, <div class=\"name\">Jack</div>, <li class=\"HRmanager\">\n",
      "<div class=\"name\">Jack</div>\n",
      "<div class=\"ID\">101</div>\n",
      "</li>, <ul id=\"HR\">\n",
      "<li class=\"HRmanager\">\n",
      "<div class=\"name\">Jack</div>\n",
      "<div class=\"ID\">101</div>\n",
      "</li>\n",
      "<li class=\"HRmanager\">\n",
      "<div class=\"name\">Daren</div>\n",
      "<div class=\"ID\">65</div>\n",
      "</li>\n",
      "</ul>, <div class=\"oraganization\">\n",
      "<ul id=\"HR\">\n",
      "<li class=\"HRmanager\">\n",
      "<div class=\"name\">Jack</div>\n",
      "<div class=\"ID\">101</div>\n",
      "</li>\n",
      "<li class=\"HRmanager\">\n",
      "<div class=\"name\">Daren</div>\n",
      "<div class=\"ID\">65</div>\n",
      "</li>\n",
      "</ul>\n",
      "<ul id=\"IT\">\n",
      "<li class=\"ITmanager\">\n",
      "<div class=\"name\">Morris</div>\n",
      "<div class=\"ID\">39</div>\n",
      "</li>\n",
      "<li class=\"ITmanager\">\n",
      "<div class=\"name\">Jane</div>\n",
      "<div class=\"ID\">11</div>\n",
      "</li>\n",
      "</ul>\n",
      "<ul id=\"Finance\">\n",
      "<li class=\"accountmanager\">\n",
      "<div class=\"name\">Tom</div>\n",
      "<div class=\"ID\">22</div>\n",
      "</li>\n",
      "<li class=\"accountmanager\">\n",
      "<div class=\"name\">Kelly</div>\n",
      "<div class=\"ID\">95</div>\n",
      "</li>\n",
      "</ul>\n",
      "</div>, <body>\n",
      "<div class=\"oraganization\">\n",
      "<ul id=\"HR\">\n",
      "<li class=\"HRmanager\">\n",
      "<div class=\"name\">Jack</div>\n",
      "<div class=\"ID\">101</div>\n",
      "</li>\n",
      "<li class=\"HRmanager\">\n",
      "<div class=\"name\">Daren</div>\n",
      "<div class=\"ID\">65</div>\n",
      "</li>\n",
      "</ul>\n",
      "<ul id=\"IT\">\n",
      "<li class=\"ITmanager\">\n",
      "<div class=\"name\">Morris</div>\n",
      "<div class=\"ID\">39</div>\n",
      "</li>\n",
      "<li class=\"ITmanager\">\n",
      "<div class=\"name\">Jane</div>\n",
      "<div class=\"ID\">11</div>\n",
      "</li>\n",
      "</ul>\n",
      "<ul id=\"Finance\">\n",
      "<li class=\"accountmanager\">\n",
      "<div class=\"name\">Tom</div>\n",
      "<div class=\"ID\">22</div>\n",
      "</li>\n",
      "<li class=\"accountmanager\">\n",
      "<div class=\"name\">Kelly</div>\n",
      "<div class=\"ID\">95</div>\n",
      "</li>\n",
      "</ul>\n",
      "</div>\n",
      "</body>, <html>\n",
      "<body>\n",
      "<div class=\"oraganization\">\n",
      "<ul id=\"HR\">\n",
      "<li class=\"HRmanager\">\n",
      "<div class=\"name\">Jack</div>\n",
      "<div class=\"ID\">101</div>\n",
      "</li>\n",
      "<li class=\"HRmanager\">\n",
      "<div class=\"name\">Daren</div>\n",
      "<div class=\"ID\">65</div>\n",
      "</li>\n",
      "</ul>\n",
      "<ul id=\"IT\">\n",
      "<li class=\"ITmanager\">\n",
      "<div class=\"name\">Morris</div>\n",
      "<div class=\"ID\">39</div>\n",
      "</li>\n",
      "<li class=\"ITmanager\">\n",
      "<div class=\"name\">Jane</div>\n",
      "<div class=\"ID\">11</div>\n",
      "</li>\n",
      "</ul>\n",
      "<ul id=\"Finance\">\n",
      "<li class=\"accountmanager\">\n",
      "<div class=\"name\">Tom</div>\n",
      "<div class=\"ID\">22</div>\n",
      "</li>\n",
      "<li class=\"accountmanager\">\n",
      "<div class=\"name\">Kelly</div>\n",
      "<div class=\"ID\">95</div>\n",
      "</li>\n",
      "</ul>\n",
      "</div>\n",
      "</body>\n",
      "</html>]\n"
     ]
    }
   ],
   "source": [
    "#find and print previous\n",
    "all_previous = org.findAllPrevious()\n",
    "print(all_previous)"
   ]
  },
  {
   "cell_type": "code",
   "execution_count": 78,
   "id": "f0554191",
   "metadata": {},
   "outputs": [],
   "source": [
    "#search and print previous sibling\n",
    "previous_sibling = org.findPreviousSibling()"
   ]
  },
  {
   "cell_type": "code",
   "execution_count": 79,
   "id": "04177073",
   "metadata": {},
   "outputs": [
    {
     "name": "stdout",
     "output_type": "stream",
     "text": [
      "[<li class=\"ITmanager\">\n",
      "<div class=\"name\">Morris</div>\n",
      "<div class=\"ID\">39</div>\n",
      "</li>, <div class=\"name\">Morris</div>, <div class=\"ID\">39</div>, <li class=\"ITmanager\">\n",
      "<div class=\"name\">Jane</div>\n",
      "<div class=\"ID\">11</div>\n",
      "</li>, <div class=\"name\">Jane</div>, <div class=\"ID\">11</div>, <ul id=\"Finance\">\n",
      "<li class=\"accountmanager\">\n",
      "<div class=\"name\">Tom</div>\n",
      "<div class=\"ID\">22</div>\n",
      "</li>\n",
      "<li class=\"accountmanager\">\n",
      "<div class=\"name\">Kelly</div>\n",
      "<div class=\"ID\">95</div>\n",
      "</li>\n",
      "</ul>, <li class=\"accountmanager\">\n",
      "<div class=\"name\">Tom</div>\n",
      "<div class=\"ID\">22</div>\n",
      "</li>, <div class=\"name\">Tom</div>, <div class=\"ID\">22</div>, <li class=\"accountmanager\">\n",
      "<div class=\"name\">Kelly</div>\n",
      "<div class=\"ID\">95</div>\n",
      "</li>, <div class=\"name\">Kelly</div>, <div class=\"ID\">95</div>]\n"
     ]
    }
   ],
   "source": [
    "#search and print all next\n",
    "all_next = org.findAllNext()\n",
    "print(all_next)"
   ]
  },
  {
   "cell_type": "code",
   "execution_count": 80,
   "id": "2bc177b2",
   "metadata": {},
   "outputs": [],
   "source": [
    "#use regular expression to search the document\n",
    "import re\n",
    "email_example = \"\"\"<br>\n",
    "<p>my emial id is </p>\n",
    "abc@example.com\"\"\"\n",
    "soup_email = BeautifulSoup(email_example,\"lxml\")\n",
    "emailID_regexp = re.compile"
   ]
  },
  {
   "cell_type": "code",
   "execution_count": null,
   "id": "bd1b1e58",
   "metadata": {},
   "outputs": [],
   "source": []
  }
 ],
 "metadata": {
  "kernelspec": {
   "display_name": "Python 3 (ipykernel)",
   "language": "python",
   "name": "python3"
  },
  "language_info": {
   "codemirror_mode": {
    "name": "ipython",
    "version": 3
   },
   "file_extension": ".py",
   "mimetype": "text/x-python",
   "name": "python",
   "nbconvert_exporter": "python",
   "pygments_lexer": "ipython3",
   "version": "3.9.7"
  },
  "varInspector": {
   "cols": {
    "lenName": 16,
    "lenType": 16,
    "lenVar": 40
   },
   "kernels_config": {
    "python": {
     "delete_cmd_postfix": "",
     "delete_cmd_prefix": "del ",
     "library": "var_list.py",
     "varRefreshCmd": "print(var_dic_list())"
    },
    "r": {
     "delete_cmd_postfix": ") ",
     "delete_cmd_prefix": "rm(",
     "library": "var_list.r",
     "varRefreshCmd": "cat(var_dic_list()) "
    }
   },
   "types_to_exclude": [
    "module",
    "function",
    "builtin_function_or_method",
    "instance",
    "_Feature"
   ],
   "window_display": false
  }
 },
 "nbformat": 4,
 "nbformat_minor": 5
}
